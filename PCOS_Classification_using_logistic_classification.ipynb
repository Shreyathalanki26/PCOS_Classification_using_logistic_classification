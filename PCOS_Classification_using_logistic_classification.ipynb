{
  "metadata": {
    "kernelspec": {
      "language": "python",
      "display_name": "Python 3",
      "name": "python3"
    },
    "language_info": {
      "pygments_lexer": "ipython3",
      "nbconvert_exporter": "python",
      "version": "3.6.4",
      "file_extension": ".py",
      "codemirror_mode": {
        "name": "ipython",
        "version": 3
      },
      "name": "python",
      "mimetype": "text/x-python"
    },
    "colab": {
      "provenance": [],
      "include_colab_link": true
    }
  },
  "nbformat_minor": 0,
  "nbformat": 4,
  "cells": [
    {
      "cell_type": "markdown",
      "metadata": {
        "id": "view-in-github",
        "colab_type": "text"
      },
      "source": [
        "<a href=\"https://colab.research.google.com/github/Shreyathalanki26/PCOS_Classification_using_logistic_classification/blob/main/PCOS_Classification_using_logistic_classification.ipynb\" target=\"_parent\"><img src=\"https://colab.research.google.com/assets/colab-badge.svg\" alt=\"Open In Colab\"/></a>"
      ]
    },
    {
      "cell_type": "code",
      "source": [
        "import pandas as pd\n",
        "import numpy as np\n",
        "import scipy as sp\n",
        "import seaborn as sns\n",
        "import matplotlib.pyplot as plt\n",
        "from matplotlib import figure\n",
        "from sklearn.model_selection import train_test_split\n",
        "from sklearn.linear_model import LogisticRegression\n"
      ],
      "metadata": {
        "execution": {
          "iopub.status.busy": "2022-07-18T11:32:20.172798Z",
          "iopub.execute_input": "2022-07-18T11:32:20.173837Z",
          "iopub.status.idle": "2022-07-18T11:32:20.180251Z",
          "shell.execute_reply.started": "2022-07-18T11:32:20.173783Z",
          "shell.execute_reply": "2022-07-18T11:32:20.1791Z"
        },
        "trusted": true,
        "id": "SqTloN3d94UI"
      },
      "execution_count": 4,
      "outputs": []
    },
    {
      "cell_type": "markdown",
      "source": [
        "# **Load and read the dataset**"
      ],
      "metadata": {
        "id": "XVcHPXT394UJ"
      }
    },
    {
      "cell_type": "code",
      "source": [
        "data = pd.read_csv(\"PCOS_data.csv\")"
      ],
      "metadata": {
        "execution": {
          "iopub.status.busy": "2022-07-18T11:32:20.192542Z",
          "iopub.execute_input": "2022-07-18T11:32:20.193438Z",
          "iopub.status.idle": "2022-07-18T11:32:20.20771Z",
          "shell.execute_reply.started": "2022-07-18T11:32:20.19339Z",
          "shell.execute_reply": "2022-07-18T11:32:20.206451Z"
        },
        "trusted": true,
        "id": "6VfQz4AL94UK"
      },
      "execution_count": 5,
      "outputs": []
    },
    {
      "cell_type": "code",
      "source": [
        "data.info()"
      ],
      "metadata": {
        "execution": {
          "iopub.status.busy": "2022-07-18T11:32:20.211739Z",
          "iopub.execute_input": "2022-07-18T11:32:20.212986Z",
          "iopub.status.idle": "2022-07-18T11:32:20.24941Z",
          "shell.execute_reply.started": "2022-07-18T11:32:20.212948Z",
          "shell.execute_reply": "2022-07-18T11:32:20.24821Z"
        },
        "trusted": true,
        "colab": {
          "base_uri": "https://localhost:8080/"
        },
        "id": "Sc_Pn3Pd94UK",
        "outputId": "231a775e-0c91-401f-afc8-93b543e5bb22"
      },
      "execution_count": 6,
      "outputs": [
        {
          "output_type": "stream",
          "name": "stdout",
          "text": [
            "<class 'pandas.core.frame.DataFrame'>\n",
            "RangeIndex: 541 entries, 0 to 540\n",
            "Data columns (total 44 columns):\n",
            " #   Column                  Non-Null Count  Dtype  \n",
            "---  ------                  --------------  -----  \n",
            " 0   Sl. No                  541 non-null    int64  \n",
            " 1   Patient File No.        541 non-null    int64  \n",
            " 2   PCOS (Y/N)              541 non-null    int64  \n",
            " 3    Age (yrs)              541 non-null    int64  \n",
            " 4   Weight (Kg)             541 non-null    float64\n",
            " 5   Height(Cm)              541 non-null    float64\n",
            " 6   BMI                     541 non-null    float64\n",
            " 7   Blood Group             541 non-null    int64  \n",
            " 8   Pulse rate(bpm)         541 non-null    int64  \n",
            " 9   RR (breaths/min)        541 non-null    int64  \n",
            " 10  Hb(g/dl)                541 non-null    float64\n",
            " 11  Cycle(R/I)              541 non-null    int64  \n",
            " 12  Cycle length(days)      541 non-null    int64  \n",
            " 13  Marraige Status (Yrs)   540 non-null    float64\n",
            " 14  Pregnant(Y/N)           541 non-null    int64  \n",
            " 15  No. of abortions        541 non-null    int64  \n",
            " 16    I   beta-HCG(mIU/mL)  541 non-null    float64\n",
            " 17  II    beta-HCG(mIU/mL)  541 non-null    object \n",
            " 18  FSH(mIU/mL)             541 non-null    float64\n",
            " 19  LH(mIU/mL)              541 non-null    float64\n",
            " 20  FSH/LH                  541 non-null    float64\n",
            " 21  Hip(inch)               541 non-null    int64  \n",
            " 22  Waist(inch)             541 non-null    int64  \n",
            " 23  Waist:Hip Ratio         541 non-null    float64\n",
            " 24  TSH (mIU/L)             541 non-null    float64\n",
            " 25  AMH(ng/mL)              541 non-null    object \n",
            " 26  PRL(ng/mL)              541 non-null    float64\n",
            " 27  Vit D3 (ng/mL)          541 non-null    float64\n",
            " 28  PRG(ng/mL)              541 non-null    float64\n",
            " 29  RBS(mg/dl)              541 non-null    float64\n",
            " 30  Weight gain(Y/N)        541 non-null    int64  \n",
            " 31  hair growth(Y/N)        541 non-null    int64  \n",
            " 32  Skin darkening (Y/N)    541 non-null    int64  \n",
            " 33  Hair loss(Y/N)          541 non-null    int64  \n",
            " 34  Pimples(Y/N)            541 non-null    int64  \n",
            " 35  Fast food (Y/N)         540 non-null    float64\n",
            " 36  Reg.Exercise(Y/N)       541 non-null    int64  \n",
            " 37  BP _Systolic (mmHg)     541 non-null    int64  \n",
            " 38  BP _Diastolic (mmHg)    541 non-null    int64  \n",
            " 39  Follicle No. (L)        541 non-null    int64  \n",
            " 40  Follicle No. (R)        541 non-null    int64  \n",
            " 41  Avg. F size (L) (mm)    541 non-null    float64\n",
            " 42  Avg. F size (R) (mm)    541 non-null    float64\n",
            " 43  Endometrium (mm)        541 non-null    float64\n",
            "dtypes: float64(19), int64(23), object(2)\n",
            "memory usage: 186.1+ KB\n"
          ]
        }
      ]
    },
    {
      "cell_type": "code",
      "source": [
        "data.columns"
      ],
      "metadata": {
        "execution": {
          "iopub.status.busy": "2022-07-18T11:32:20.251656Z",
          "iopub.execute_input": "2022-07-18T11:32:20.252083Z",
          "iopub.status.idle": "2022-07-18T11:32:20.261087Z",
          "shell.execute_reply.started": "2022-07-18T11:32:20.25204Z",
          "shell.execute_reply": "2022-07-18T11:32:20.259994Z"
        },
        "trusted": true,
        "colab": {
          "base_uri": "https://localhost:8080/"
        },
        "id": "fmUFqo6L94UK",
        "outputId": "e89354ac-5afe-4a2d-fcb1-e4b7e54bb052"
      },
      "execution_count": 7,
      "outputs": [
        {
          "output_type": "execute_result",
          "data": {
            "text/plain": [
              "Index(['Sl. No', 'Patient File No.', 'PCOS (Y/N)', ' Age (yrs)', 'Weight (Kg)',\n",
              "       'Height(Cm) ', 'BMI', 'Blood Group', 'Pulse rate(bpm) ',\n",
              "       'RR (breaths/min)', 'Hb(g/dl)', 'Cycle(R/I)', 'Cycle length(days)',\n",
              "       'Marraige Status (Yrs)', 'Pregnant(Y/N)', 'No. of abortions',\n",
              "       '  I   beta-HCG(mIU/mL)', 'II    beta-HCG(mIU/mL)', 'FSH(mIU/mL)',\n",
              "       'LH(mIU/mL)', 'FSH/LH', 'Hip(inch)', 'Waist(inch)', 'Waist:Hip Ratio',\n",
              "       'TSH (mIU/L)', 'AMH(ng/mL)', 'PRL(ng/mL)', 'Vit D3 (ng/mL)',\n",
              "       'PRG(ng/mL)', 'RBS(mg/dl)', 'Weight gain(Y/N)', 'hair growth(Y/N)',\n",
              "       'Skin darkening (Y/N)', 'Hair loss(Y/N)', 'Pimples(Y/N)',\n",
              "       'Fast food (Y/N)', 'Reg.Exercise(Y/N)', 'BP _Systolic (mmHg)',\n",
              "       'BP _Diastolic (mmHg)', 'Follicle No. (L)', 'Follicle No. (R)',\n",
              "       'Avg. F size (L) (mm)', 'Avg. F size (R) (mm)', 'Endometrium (mm)'],\n",
              "      dtype='object')"
            ]
          },
          "metadata": {},
          "execution_count": 7
        }
      ]
    },
    {
      "cell_type": "code",
      "source": [
        "data.shape"
      ],
      "metadata": {
        "execution": {
          "iopub.status.busy": "2022-07-18T11:32:20.264049Z",
          "iopub.execute_input": "2022-07-18T11:32:20.26499Z",
          "iopub.status.idle": "2022-07-18T11:32:20.27687Z",
          "shell.execute_reply.started": "2022-07-18T11:32:20.264946Z",
          "shell.execute_reply": "2022-07-18T11:32:20.275871Z"
        },
        "trusted": true,
        "colab": {
          "base_uri": "https://localhost:8080/"
        },
        "id": "Cg_AL03H94UK",
        "outputId": "f0f8da28-d86b-489c-9faf-231e933e9f1f"
      },
      "execution_count": 8,
      "outputs": [
        {
          "output_type": "execute_result",
          "data": {
            "text/plain": [
              "(541, 44)"
            ]
          },
          "metadata": {},
          "execution_count": 8
        }
      ]
    },
    {
      "cell_type": "code",
      "source": [
        "data.describe()"
      ],
      "metadata": {
        "colab": {
          "base_uri": "https://localhost:8080/",
          "height": 428
        },
        "id": "qZ9WW6UyAQMf",
        "outputId": "c333e9ed-fb3f-487a-fe58-629533e59daf"
      },
      "execution_count": 9,
      "outputs": [
        {
          "output_type": "execute_result",
          "data": {
            "text/plain": [
              "           Sl. No  Patient File No.  PCOS (Y/N)   Age (yrs)  Weight (Kg)  \\\n",
              "count  541.000000        541.000000  541.000000  541.000000   541.000000   \n",
              "mean   271.000000        271.000000    0.327172   31.430684    59.637153   \n",
              "std    156.317519        156.317519    0.469615    5.411006    11.028287   \n",
              "min      1.000000          1.000000    0.000000   20.000000    31.000000   \n",
              "25%    136.000000        136.000000    0.000000   28.000000    52.000000   \n",
              "50%    271.000000        271.000000    0.000000   31.000000    59.000000   \n",
              "75%    406.000000        406.000000    1.000000   35.000000    65.000000   \n",
              "max    541.000000        541.000000    1.000000   48.000000   108.000000   \n",
              "\n",
              "       Height(Cm)          BMI  Blood Group  Pulse rate(bpm)   \\\n",
              "count   541.000000  541.000000   541.000000        541.000000   \n",
              "mean    156.484835   24.307579    13.802218         73.247689   \n",
              "std       6.033545    4.055129     1.840812          4.430285   \n",
              "min     137.000000   12.400000    11.000000         13.000000   \n",
              "25%     152.000000   21.600000    13.000000         72.000000   \n",
              "50%     156.000000   24.200000    14.000000         72.000000   \n",
              "75%     160.000000   26.600000    15.000000         74.000000   \n",
              "max     180.000000   38.900000    18.000000         82.000000   \n",
              "\n",
              "       RR (breaths/min)  ...  Pimples(Y/N)  Fast food (Y/N)  \\\n",
              "count        541.000000  ...    541.000000       540.000000   \n",
              "mean          19.243993  ...      0.489834         0.514815   \n",
              "std            1.688629  ...      0.500359         0.500244   \n",
              "min           16.000000  ...      0.000000         0.000000   \n",
              "25%           18.000000  ...      0.000000         0.000000   \n",
              "50%           18.000000  ...      0.000000         1.000000   \n",
              "75%           20.000000  ...      1.000000         1.000000   \n",
              "max           28.000000  ...      1.000000         1.000000   \n",
              "\n",
              "       Reg.Exercise(Y/N)  BP _Systolic (mmHg)  BP _Diastolic (mmHg)  \\\n",
              "count         541.000000           541.000000            541.000000   \n",
              "mean            0.247689           114.661738             76.927911   \n",
              "std             0.432070             7.384556              5.574112   \n",
              "min             0.000000            12.000000              8.000000   \n",
              "25%             0.000000           110.000000             70.000000   \n",
              "50%             0.000000           110.000000             80.000000   \n",
              "75%             0.000000           120.000000             80.000000   \n",
              "max             1.000000           140.000000            100.000000   \n",
              "\n",
              "       Follicle No. (L)  Follicle No. (R)  Avg. F size (L) (mm)  \\\n",
              "count        541.000000        541.000000            541.000000   \n",
              "mean           6.129390          6.641405             15.018115   \n",
              "std            4.229294          4.436889              3.566839   \n",
              "min            0.000000          0.000000              0.000000   \n",
              "25%            3.000000          3.000000             13.000000   \n",
              "50%            5.000000          6.000000             15.000000   \n",
              "75%            9.000000         10.000000             18.000000   \n",
              "max           22.000000         20.000000             24.000000   \n",
              "\n",
              "       Avg. F size (R) (mm)  Endometrium (mm)  \n",
              "count            541.000000        541.000000  \n",
              "mean              15.451701          8.475915  \n",
              "std                3.318848          2.165381  \n",
              "min                0.000000          0.000000  \n",
              "25%               13.000000          7.000000  \n",
              "50%               16.000000          8.500000  \n",
              "75%               18.000000          9.800000  \n",
              "max               24.000000         18.000000  \n",
              "\n",
              "[8 rows x 42 columns]"
            ],
            "text/html": [
              "\n",
              "\n",
              "  <div id=\"df-6317e953-a89e-4a0c-9bd1-32dbe6a95ca5\">\n",
              "    <div class=\"colab-df-container\">\n",
              "      <div>\n",
              "<style scoped>\n",
              "    .dataframe tbody tr th:only-of-type {\n",
              "        vertical-align: middle;\n",
              "    }\n",
              "\n",
              "    .dataframe tbody tr th {\n",
              "        vertical-align: top;\n",
              "    }\n",
              "\n",
              "    .dataframe thead th {\n",
              "        text-align: right;\n",
              "    }\n",
              "</style>\n",
              "<table border=\"1\" class=\"dataframe\">\n",
              "  <thead>\n",
              "    <tr style=\"text-align: right;\">\n",
              "      <th></th>\n",
              "      <th>Sl. No</th>\n",
              "      <th>Patient File No.</th>\n",
              "      <th>PCOS (Y/N)</th>\n",
              "      <th>Age (yrs)</th>\n",
              "      <th>Weight (Kg)</th>\n",
              "      <th>Height(Cm)</th>\n",
              "      <th>BMI</th>\n",
              "      <th>Blood Group</th>\n",
              "      <th>Pulse rate(bpm)</th>\n",
              "      <th>RR (breaths/min)</th>\n",
              "      <th>...</th>\n",
              "      <th>Pimples(Y/N)</th>\n",
              "      <th>Fast food (Y/N)</th>\n",
              "      <th>Reg.Exercise(Y/N)</th>\n",
              "      <th>BP _Systolic (mmHg)</th>\n",
              "      <th>BP _Diastolic (mmHg)</th>\n",
              "      <th>Follicle No. (L)</th>\n",
              "      <th>Follicle No. (R)</th>\n",
              "      <th>Avg. F size (L) (mm)</th>\n",
              "      <th>Avg. F size (R) (mm)</th>\n",
              "      <th>Endometrium (mm)</th>\n",
              "    </tr>\n",
              "  </thead>\n",
              "  <tbody>\n",
              "    <tr>\n",
              "      <th>count</th>\n",
              "      <td>541.000000</td>\n",
              "      <td>541.000000</td>\n",
              "      <td>541.000000</td>\n",
              "      <td>541.000000</td>\n",
              "      <td>541.000000</td>\n",
              "      <td>541.000000</td>\n",
              "      <td>541.000000</td>\n",
              "      <td>541.000000</td>\n",
              "      <td>541.000000</td>\n",
              "      <td>541.000000</td>\n",
              "      <td>...</td>\n",
              "      <td>541.000000</td>\n",
              "      <td>540.000000</td>\n",
              "      <td>541.000000</td>\n",
              "      <td>541.000000</td>\n",
              "      <td>541.000000</td>\n",
              "      <td>541.000000</td>\n",
              "      <td>541.000000</td>\n",
              "      <td>541.000000</td>\n",
              "      <td>541.000000</td>\n",
              "      <td>541.000000</td>\n",
              "    </tr>\n",
              "    <tr>\n",
              "      <th>mean</th>\n",
              "      <td>271.000000</td>\n",
              "      <td>271.000000</td>\n",
              "      <td>0.327172</td>\n",
              "      <td>31.430684</td>\n",
              "      <td>59.637153</td>\n",
              "      <td>156.484835</td>\n",
              "      <td>24.307579</td>\n",
              "      <td>13.802218</td>\n",
              "      <td>73.247689</td>\n",
              "      <td>19.243993</td>\n",
              "      <td>...</td>\n",
              "      <td>0.489834</td>\n",
              "      <td>0.514815</td>\n",
              "      <td>0.247689</td>\n",
              "      <td>114.661738</td>\n",
              "      <td>76.927911</td>\n",
              "      <td>6.129390</td>\n",
              "      <td>6.641405</td>\n",
              "      <td>15.018115</td>\n",
              "      <td>15.451701</td>\n",
              "      <td>8.475915</td>\n",
              "    </tr>\n",
              "    <tr>\n",
              "      <th>std</th>\n",
              "      <td>156.317519</td>\n",
              "      <td>156.317519</td>\n",
              "      <td>0.469615</td>\n",
              "      <td>5.411006</td>\n",
              "      <td>11.028287</td>\n",
              "      <td>6.033545</td>\n",
              "      <td>4.055129</td>\n",
              "      <td>1.840812</td>\n",
              "      <td>4.430285</td>\n",
              "      <td>1.688629</td>\n",
              "      <td>...</td>\n",
              "      <td>0.500359</td>\n",
              "      <td>0.500244</td>\n",
              "      <td>0.432070</td>\n",
              "      <td>7.384556</td>\n",
              "      <td>5.574112</td>\n",
              "      <td>4.229294</td>\n",
              "      <td>4.436889</td>\n",
              "      <td>3.566839</td>\n",
              "      <td>3.318848</td>\n",
              "      <td>2.165381</td>\n",
              "    </tr>\n",
              "    <tr>\n",
              "      <th>min</th>\n",
              "      <td>1.000000</td>\n",
              "      <td>1.000000</td>\n",
              "      <td>0.000000</td>\n",
              "      <td>20.000000</td>\n",
              "      <td>31.000000</td>\n",
              "      <td>137.000000</td>\n",
              "      <td>12.400000</td>\n",
              "      <td>11.000000</td>\n",
              "      <td>13.000000</td>\n",
              "      <td>16.000000</td>\n",
              "      <td>...</td>\n",
              "      <td>0.000000</td>\n",
              "      <td>0.000000</td>\n",
              "      <td>0.000000</td>\n",
              "      <td>12.000000</td>\n",
              "      <td>8.000000</td>\n",
              "      <td>0.000000</td>\n",
              "      <td>0.000000</td>\n",
              "      <td>0.000000</td>\n",
              "      <td>0.000000</td>\n",
              "      <td>0.000000</td>\n",
              "    </tr>\n",
              "    <tr>\n",
              "      <th>25%</th>\n",
              "      <td>136.000000</td>\n",
              "      <td>136.000000</td>\n",
              "      <td>0.000000</td>\n",
              "      <td>28.000000</td>\n",
              "      <td>52.000000</td>\n",
              "      <td>152.000000</td>\n",
              "      <td>21.600000</td>\n",
              "      <td>13.000000</td>\n",
              "      <td>72.000000</td>\n",
              "      <td>18.000000</td>\n",
              "      <td>...</td>\n",
              "      <td>0.000000</td>\n",
              "      <td>0.000000</td>\n",
              "      <td>0.000000</td>\n",
              "      <td>110.000000</td>\n",
              "      <td>70.000000</td>\n",
              "      <td>3.000000</td>\n",
              "      <td>3.000000</td>\n",
              "      <td>13.000000</td>\n",
              "      <td>13.000000</td>\n",
              "      <td>7.000000</td>\n",
              "    </tr>\n",
              "    <tr>\n",
              "      <th>50%</th>\n",
              "      <td>271.000000</td>\n",
              "      <td>271.000000</td>\n",
              "      <td>0.000000</td>\n",
              "      <td>31.000000</td>\n",
              "      <td>59.000000</td>\n",
              "      <td>156.000000</td>\n",
              "      <td>24.200000</td>\n",
              "      <td>14.000000</td>\n",
              "      <td>72.000000</td>\n",
              "      <td>18.000000</td>\n",
              "      <td>...</td>\n",
              "      <td>0.000000</td>\n",
              "      <td>1.000000</td>\n",
              "      <td>0.000000</td>\n",
              "      <td>110.000000</td>\n",
              "      <td>80.000000</td>\n",
              "      <td>5.000000</td>\n",
              "      <td>6.000000</td>\n",
              "      <td>15.000000</td>\n",
              "      <td>16.000000</td>\n",
              "      <td>8.500000</td>\n",
              "    </tr>\n",
              "    <tr>\n",
              "      <th>75%</th>\n",
              "      <td>406.000000</td>\n",
              "      <td>406.000000</td>\n",
              "      <td>1.000000</td>\n",
              "      <td>35.000000</td>\n",
              "      <td>65.000000</td>\n",
              "      <td>160.000000</td>\n",
              "      <td>26.600000</td>\n",
              "      <td>15.000000</td>\n",
              "      <td>74.000000</td>\n",
              "      <td>20.000000</td>\n",
              "      <td>...</td>\n",
              "      <td>1.000000</td>\n",
              "      <td>1.000000</td>\n",
              "      <td>0.000000</td>\n",
              "      <td>120.000000</td>\n",
              "      <td>80.000000</td>\n",
              "      <td>9.000000</td>\n",
              "      <td>10.000000</td>\n",
              "      <td>18.000000</td>\n",
              "      <td>18.000000</td>\n",
              "      <td>9.800000</td>\n",
              "    </tr>\n",
              "    <tr>\n",
              "      <th>max</th>\n",
              "      <td>541.000000</td>\n",
              "      <td>541.000000</td>\n",
              "      <td>1.000000</td>\n",
              "      <td>48.000000</td>\n",
              "      <td>108.000000</td>\n",
              "      <td>180.000000</td>\n",
              "      <td>38.900000</td>\n",
              "      <td>18.000000</td>\n",
              "      <td>82.000000</td>\n",
              "      <td>28.000000</td>\n",
              "      <td>...</td>\n",
              "      <td>1.000000</td>\n",
              "      <td>1.000000</td>\n",
              "      <td>1.000000</td>\n",
              "      <td>140.000000</td>\n",
              "      <td>100.000000</td>\n",
              "      <td>22.000000</td>\n",
              "      <td>20.000000</td>\n",
              "      <td>24.000000</td>\n",
              "      <td>24.000000</td>\n",
              "      <td>18.000000</td>\n",
              "    </tr>\n",
              "  </tbody>\n",
              "</table>\n",
              "<p>8 rows × 42 columns</p>\n",
              "</div>\n",
              "      <button class=\"colab-df-convert\" onclick=\"convertToInteractive('df-6317e953-a89e-4a0c-9bd1-32dbe6a95ca5')\"\n",
              "              title=\"Convert this dataframe to an interactive table.\"\n",
              "              style=\"display:none;\">\n",
              "\n",
              "  <svg xmlns=\"http://www.w3.org/2000/svg\" height=\"24px\"viewBox=\"0 0 24 24\"\n",
              "       width=\"24px\">\n",
              "    <path d=\"M0 0h24v24H0V0z\" fill=\"none\"/>\n",
              "    <path d=\"M18.56 5.44l.94 2.06.94-2.06 2.06-.94-2.06-.94-.94-2.06-.94 2.06-2.06.94zm-11 1L8.5 8.5l.94-2.06 2.06-.94-2.06-.94L8.5 2.5l-.94 2.06-2.06.94zm10 10l.94 2.06.94-2.06 2.06-.94-2.06-.94-.94-2.06-.94 2.06-2.06.94z\"/><path d=\"M17.41 7.96l-1.37-1.37c-.4-.4-.92-.59-1.43-.59-.52 0-1.04.2-1.43.59L10.3 9.45l-7.72 7.72c-.78.78-.78 2.05 0 2.83L4 21.41c.39.39.9.59 1.41.59.51 0 1.02-.2 1.41-.59l7.78-7.78 2.81-2.81c.8-.78.8-2.07 0-2.86zM5.41 20L4 18.59l7.72-7.72 1.47 1.35L5.41 20z\"/>\n",
              "  </svg>\n",
              "      </button>\n",
              "\n",
              "\n",
              "\n",
              "    <div id=\"df-2d908d3d-de5d-450d-853f-489156a6f8dc\">\n",
              "      <button class=\"colab-df-quickchart\" onclick=\"quickchart('df-2d908d3d-de5d-450d-853f-489156a6f8dc')\"\n",
              "              title=\"Suggest charts.\"\n",
              "              style=\"display:none;\">\n",
              "\n",
              "<svg xmlns=\"http://www.w3.org/2000/svg\" height=\"24px\"viewBox=\"0 0 24 24\"\n",
              "     width=\"24px\">\n",
              "    <g>\n",
              "        <path d=\"M19 3H5c-1.1 0-2 .9-2 2v14c0 1.1.9 2 2 2h14c1.1 0 2-.9 2-2V5c0-1.1-.9-2-2-2zM9 17H7v-7h2v7zm4 0h-2V7h2v10zm4 0h-2v-4h2v4z\"/>\n",
              "    </g>\n",
              "</svg>\n",
              "      </button>\n",
              "    </div>\n",
              "\n",
              "<style>\n",
              "  .colab-df-quickchart {\n",
              "    background-color: #E8F0FE;\n",
              "    border: none;\n",
              "    border-radius: 50%;\n",
              "    cursor: pointer;\n",
              "    display: none;\n",
              "    fill: #1967D2;\n",
              "    height: 32px;\n",
              "    padding: 0 0 0 0;\n",
              "    width: 32px;\n",
              "  }\n",
              "\n",
              "  .colab-df-quickchart:hover {\n",
              "    background-color: #E2EBFA;\n",
              "    box-shadow: 0px 1px 2px rgba(60, 64, 67, 0.3), 0px 1px 3px 1px rgba(60, 64, 67, 0.15);\n",
              "    fill: #174EA6;\n",
              "  }\n",
              "\n",
              "  [theme=dark] .colab-df-quickchart {\n",
              "    background-color: #3B4455;\n",
              "    fill: #D2E3FC;\n",
              "  }\n",
              "\n",
              "  [theme=dark] .colab-df-quickchart:hover {\n",
              "    background-color: #434B5C;\n",
              "    box-shadow: 0px 1px 3px 1px rgba(0, 0, 0, 0.15);\n",
              "    filter: drop-shadow(0px 1px 2px rgba(0, 0, 0, 0.3));\n",
              "    fill: #FFFFFF;\n",
              "  }\n",
              "</style>\n",
              "\n",
              "    <script>\n",
              "      async function quickchart(key) {\n",
              "        const containerElement = document.querySelector('#' + key);\n",
              "        const charts = await google.colab.kernel.invokeFunction(\n",
              "            'suggestCharts', [key], {});\n",
              "      }\n",
              "    </script>\n",
              "\n",
              "      <script>\n",
              "\n",
              "function displayQuickchartButton(domScope) {\n",
              "  let quickchartButtonEl =\n",
              "    domScope.querySelector('#df-2d908d3d-de5d-450d-853f-489156a6f8dc button.colab-df-quickchart');\n",
              "  quickchartButtonEl.style.display =\n",
              "    google.colab.kernel.accessAllowed ? 'block' : 'none';\n",
              "}\n",
              "\n",
              "        displayQuickchartButton(document);\n",
              "      </script>\n",
              "      <style>\n",
              "    .colab-df-container {\n",
              "      display:flex;\n",
              "      flex-wrap:wrap;\n",
              "      gap: 12px;\n",
              "    }\n",
              "\n",
              "    .colab-df-convert {\n",
              "      background-color: #E8F0FE;\n",
              "      border: none;\n",
              "      border-radius: 50%;\n",
              "      cursor: pointer;\n",
              "      display: none;\n",
              "      fill: #1967D2;\n",
              "      height: 32px;\n",
              "      padding: 0 0 0 0;\n",
              "      width: 32px;\n",
              "    }\n",
              "\n",
              "    .colab-df-convert:hover {\n",
              "      background-color: #E2EBFA;\n",
              "      box-shadow: 0px 1px 2px rgba(60, 64, 67, 0.3), 0px 1px 3px 1px rgba(60, 64, 67, 0.15);\n",
              "      fill: #174EA6;\n",
              "    }\n",
              "\n",
              "    [theme=dark] .colab-df-convert {\n",
              "      background-color: #3B4455;\n",
              "      fill: #D2E3FC;\n",
              "    }\n",
              "\n",
              "    [theme=dark] .colab-df-convert:hover {\n",
              "      background-color: #434B5C;\n",
              "      box-shadow: 0px 1px 3px 1px rgba(0, 0, 0, 0.15);\n",
              "      filter: drop-shadow(0px 1px 2px rgba(0, 0, 0, 0.3));\n",
              "      fill: #FFFFFF;\n",
              "    }\n",
              "  </style>\n",
              "\n",
              "      <script>\n",
              "        const buttonEl =\n",
              "          document.querySelector('#df-6317e953-a89e-4a0c-9bd1-32dbe6a95ca5 button.colab-df-convert');\n",
              "        buttonEl.style.display =\n",
              "          google.colab.kernel.accessAllowed ? 'block' : 'none';\n",
              "\n",
              "        async function convertToInteractive(key) {\n",
              "          const element = document.querySelector('#df-6317e953-a89e-4a0c-9bd1-32dbe6a95ca5');\n",
              "          const dataTable =\n",
              "            await google.colab.kernel.invokeFunction('convertToInteractive',\n",
              "                                                     [key], {});\n",
              "          if (!dataTable) return;\n",
              "\n",
              "          const docLinkHtml = 'Like what you see? Visit the ' +\n",
              "            '<a target=\"_blank\" href=https://colab.research.google.com/notebooks/data_table.ipynb>data table notebook</a>'\n",
              "            + ' to learn more about interactive tables.';\n",
              "          element.innerHTML = '';\n",
              "          dataTable['output_type'] = 'display_data';\n",
              "          await google.colab.output.renderOutput(dataTable, element);\n",
              "          const docLink = document.createElement('div');\n",
              "          docLink.innerHTML = docLinkHtml;\n",
              "          element.appendChild(docLink);\n",
              "        }\n",
              "      </script>\n",
              "    </div>\n",
              "  </div>\n"
            ]
          },
          "metadata": {},
          "execution_count": 9
        }
      ]
    },
    {
      "cell_type": "markdown",
      "source": [
        "# **Check null values within the dataset**"
      ],
      "metadata": {
        "id": "ULR4j6Ja94UK"
      }
    },
    {
      "cell_type": "code",
      "source": [
        "data.columns[data.isnull().any()]"
      ],
      "metadata": {
        "execution": {
          "iopub.status.busy": "2022-07-18T11:32:20.278328Z",
          "iopub.execute_input": "2022-07-18T11:32:20.279237Z",
          "iopub.status.idle": "2022-07-18T11:32:20.289282Z",
          "shell.execute_reply.started": "2022-07-18T11:32:20.279193Z",
          "shell.execute_reply": "2022-07-18T11:32:20.288198Z"
        },
        "trusted": true,
        "colab": {
          "base_uri": "https://localhost:8080/"
        },
        "id": "7MQKnpZo94UK",
        "outputId": "78e53ad8-33d0-4a7b-96f5-d1ee6097fad4"
      },
      "execution_count": 10,
      "outputs": [
        {
          "output_type": "execute_result",
          "data": {
            "text/plain": [
              "Index(['Marraige Status (Yrs)', 'Fast food (Y/N)'], dtype='object')"
            ]
          },
          "metadata": {},
          "execution_count": 10
        }
      ]
    },
    {
      "cell_type": "markdown",
      "source": [
        "## Replace the null or not available values with the mean of these features"
      ],
      "metadata": {
        "id": "pXWtpok194UK"
      }
    },
    {
      "cell_type": "code",
      "source": [
        "data['Marraige Status (Yrs)'].fillna(data['Marraige Status (Yrs)'].mean(),inplace=True)\n",
        "data['Fast food (Y/N)'].fillna(data['Fast food (Y/N)'].mean(),inplace=True)"
      ],
      "metadata": {
        "execution": {
          "iopub.status.busy": "2022-07-18T11:32:20.291048Z",
          "iopub.execute_input": "2022-07-18T11:32:20.291705Z",
          "iopub.status.idle": "2022-07-18T11:32:20.300789Z",
          "shell.execute_reply.started": "2022-07-18T11:32:20.291664Z",
          "shell.execute_reply": "2022-07-18T11:32:20.2985Z"
        },
        "trusted": true,
        "id": "Iv7n4uIs94UK"
      },
      "execution_count": 11,
      "outputs": []
    },
    {
      "cell_type": "code",
      "source": [
        "data.columns[data.isnull().any()]"
      ],
      "metadata": {
        "execution": {
          "iopub.status.busy": "2022-07-18T11:32:20.30203Z",
          "iopub.execute_input": "2022-07-18T11:32:20.303039Z",
          "iopub.status.idle": "2022-07-18T11:32:20.315193Z",
          "shell.execute_reply.started": "2022-07-18T11:32:20.302996Z",
          "shell.execute_reply": "2022-07-18T11:32:20.313935Z"
        },
        "trusted": true,
        "colab": {
          "base_uri": "https://localhost:8080/"
        },
        "id": "8eKmHXun94UL",
        "outputId": "6485377c-5797-43b9-e40d-e37843444d82"
      },
      "execution_count": 12,
      "outputs": [
        {
          "output_type": "execute_result",
          "data": {
            "text/plain": [
              "Index([], dtype='object')"
            ]
          },
          "metadata": {},
          "execution_count": 12
        }
      ]
    },
    {
      "cell_type": "code",
      "source": [
        "#check the sum of null values\n",
        "data.isnull().sum()"
      ],
      "metadata": {
        "execution": {
          "iopub.status.busy": "2022-07-18T11:32:20.317113Z",
          "iopub.execute_input": "2022-07-18T11:32:20.317778Z",
          "iopub.status.idle": "2022-07-18T11:32:20.328859Z",
          "shell.execute_reply.started": "2022-07-18T11:32:20.317737Z",
          "shell.execute_reply": "2022-07-18T11:32:20.327968Z"
        },
        "trusted": true,
        "colab": {
          "base_uri": "https://localhost:8080/"
        },
        "id": "JY_dPtDM94UL",
        "outputId": "8fcb0c6a-5b4a-4f6a-e90e-4b13c213fb95"
      },
      "execution_count": 13,
      "outputs": [
        {
          "output_type": "execute_result",
          "data": {
            "text/plain": [
              "Sl. No                    0\n",
              "Patient File No.          0\n",
              "PCOS (Y/N)                0\n",
              " Age (yrs)                0\n",
              "Weight (Kg)               0\n",
              "Height(Cm)                0\n",
              "BMI                       0\n",
              "Blood Group               0\n",
              "Pulse rate(bpm)           0\n",
              "RR (breaths/min)          0\n",
              "Hb(g/dl)                  0\n",
              "Cycle(R/I)                0\n",
              "Cycle length(days)        0\n",
              "Marraige Status (Yrs)     0\n",
              "Pregnant(Y/N)             0\n",
              "No. of abortions          0\n",
              "  I   beta-HCG(mIU/mL)    0\n",
              "II    beta-HCG(mIU/mL)    0\n",
              "FSH(mIU/mL)               0\n",
              "LH(mIU/mL)                0\n",
              "FSH/LH                    0\n",
              "Hip(inch)                 0\n",
              "Waist(inch)               0\n",
              "Waist:Hip Ratio           0\n",
              "TSH (mIU/L)               0\n",
              "AMH(ng/mL)                0\n",
              "PRL(ng/mL)                0\n",
              "Vit D3 (ng/mL)            0\n",
              "PRG(ng/mL)                0\n",
              "RBS(mg/dl)                0\n",
              "Weight gain(Y/N)          0\n",
              "hair growth(Y/N)          0\n",
              "Skin darkening (Y/N)      0\n",
              "Hair loss(Y/N)            0\n",
              "Pimples(Y/N)              0\n",
              "Fast food (Y/N)           0\n",
              "Reg.Exercise(Y/N)         0\n",
              "BP _Systolic (mmHg)       0\n",
              "BP _Diastolic (mmHg)      0\n",
              "Follicle No. (L)          0\n",
              "Follicle No. (R)          0\n",
              "Avg. F size (L) (mm)      0\n",
              "Avg. F size (R) (mm)      0\n",
              "Endometrium (mm)          0\n",
              "dtype: int64"
            ]
          },
          "metadata": {},
          "execution_count": 13
        }
      ]
    },
    {
      "cell_type": "code",
      "source": [
        "data.dtypes"
      ],
      "metadata": {
        "execution": {
          "iopub.status.busy": "2022-07-18T11:32:20.333814Z",
          "iopub.execute_input": "2022-07-18T11:32:20.334539Z",
          "iopub.status.idle": "2022-07-18T11:32:20.344604Z",
          "shell.execute_reply.started": "2022-07-18T11:32:20.334494Z",
          "shell.execute_reply": "2022-07-18T11:32:20.343338Z"
        },
        "trusted": true,
        "colab": {
          "base_uri": "https://localhost:8080/"
        },
        "id": "E-atdVpT94UL",
        "outputId": "41f86289-5e5a-4220-b82b-eca7944f6884"
      },
      "execution_count": 14,
      "outputs": [
        {
          "output_type": "execute_result",
          "data": {
            "text/plain": [
              "Sl. No                      int64\n",
              "Patient File No.            int64\n",
              "PCOS (Y/N)                  int64\n",
              " Age (yrs)                  int64\n",
              "Weight (Kg)               float64\n",
              "Height(Cm)                float64\n",
              "BMI                       float64\n",
              "Blood Group                 int64\n",
              "Pulse rate(bpm)             int64\n",
              "RR (breaths/min)            int64\n",
              "Hb(g/dl)                  float64\n",
              "Cycle(R/I)                  int64\n",
              "Cycle length(days)          int64\n",
              "Marraige Status (Yrs)     float64\n",
              "Pregnant(Y/N)               int64\n",
              "No. of abortions            int64\n",
              "  I   beta-HCG(mIU/mL)    float64\n",
              "II    beta-HCG(mIU/mL)     object\n",
              "FSH(mIU/mL)               float64\n",
              "LH(mIU/mL)                float64\n",
              "FSH/LH                    float64\n",
              "Hip(inch)                   int64\n",
              "Waist(inch)                 int64\n",
              "Waist:Hip Ratio           float64\n",
              "TSH (mIU/L)               float64\n",
              "AMH(ng/mL)                 object\n",
              "PRL(ng/mL)                float64\n",
              "Vit D3 (ng/mL)            float64\n",
              "PRG(ng/mL)                float64\n",
              "RBS(mg/dl)                float64\n",
              "Weight gain(Y/N)            int64\n",
              "hair growth(Y/N)            int64\n",
              "Skin darkening (Y/N)        int64\n",
              "Hair loss(Y/N)              int64\n",
              "Pimples(Y/N)                int64\n",
              "Fast food (Y/N)           float64\n",
              "Reg.Exercise(Y/N)           int64\n",
              "BP _Systolic (mmHg)         int64\n",
              "BP _Diastolic (mmHg)        int64\n",
              "Follicle No. (L)            int64\n",
              "Follicle No. (R)            int64\n",
              "Avg. F size (L) (mm)      float64\n",
              "Avg. F size (R) (mm)      float64\n",
              "Endometrium (mm)          float64\n",
              "dtype: object"
            ]
          },
          "metadata": {},
          "execution_count": 14
        }
      ]
    },
    {
      "cell_type": "markdown",
      "source": [
        "# **Data Preprocessing**"
      ],
      "metadata": {
        "id": "vwXmGQ4E94UL"
      }
    },
    {
      "cell_type": "code",
      "source": [
        "# rename the column PCOS with Target\n",
        "data = data.rename(columns = {\"PCOS (Y/N)\": \"Target\"})\n",
        "data.head()"
      ],
      "metadata": {
        "execution": {
          "iopub.status.busy": "2022-07-18T11:32:20.355249Z",
          "iopub.execute_input": "2022-07-18T11:32:20.35565Z",
          "iopub.status.idle": "2022-07-18T11:32:20.398592Z",
          "shell.execute_reply.started": "2022-07-18T11:32:20.355618Z",
          "shell.execute_reply": "2022-07-18T11:32:20.397101Z"
        },
        "trusted": true,
        "colab": {
          "base_uri": "https://localhost:8080/",
          "height": 369
        },
        "id": "9Zq-z1qv94UL",
        "outputId": "e085375b-301b-4bd7-e81d-38a955e9027f"
      },
      "execution_count": 15,
      "outputs": [
        {
          "output_type": "execute_result",
          "data": {
            "text/plain": [
              "   Sl. No  Patient File No.  Target   Age (yrs)  Weight (Kg)  Height(Cm)   \\\n",
              "0       1                 1       0          28         44.6        152.0   \n",
              "1       2                 2       0          36         65.0        161.5   \n",
              "2       3                 3       1          33         68.8        165.0   \n",
              "3       4                 4       0          37         65.0        148.0   \n",
              "4       5                 5       0          25         52.0        161.0   \n",
              "\n",
              "    BMI  Blood Group  Pulse rate(bpm)   RR (breaths/min)  ...  Pimples(Y/N)  \\\n",
              "0  19.3           15                78                22  ...             0   \n",
              "1  24.9           15                74                20  ...             0   \n",
              "2  25.3           11                72                18  ...             1   \n",
              "3  29.7           13                72                20  ...             0   \n",
              "4  20.1           11                72                18  ...             0   \n",
              "\n",
              "   Fast food (Y/N)  Reg.Exercise(Y/N)  BP _Systolic (mmHg)  \\\n",
              "0              1.0                  0                  110   \n",
              "1              0.0                  0                  120   \n",
              "2              1.0                  0                  120   \n",
              "3              0.0                  0                  120   \n",
              "4              0.0                  0                  120   \n",
              "\n",
              "   BP _Diastolic (mmHg)  Follicle No. (L)  Follicle No. (R)  \\\n",
              "0                    80                 3                 3   \n",
              "1                    70                 3                 5   \n",
              "2                    80                13                15   \n",
              "3                    70                 2                 2   \n",
              "4                    80                 3                 4   \n",
              "\n",
              "  Avg. F size (L) (mm)  Avg. F size (R) (mm)  Endometrium (mm)  \n",
              "0                 18.0                  18.0               8.5  \n",
              "1                 15.0                  14.0               3.7  \n",
              "2                 18.0                  20.0              10.0  \n",
              "3                 15.0                  14.0               7.5  \n",
              "4                 16.0                  14.0               7.0  \n",
              "\n",
              "[5 rows x 44 columns]"
            ],
            "text/html": [
              "\n",
              "\n",
              "  <div id=\"df-29ccf1d4-6443-42da-912a-40afaa877b8b\">\n",
              "    <div class=\"colab-df-container\">\n",
              "      <div>\n",
              "<style scoped>\n",
              "    .dataframe tbody tr th:only-of-type {\n",
              "        vertical-align: middle;\n",
              "    }\n",
              "\n",
              "    .dataframe tbody tr th {\n",
              "        vertical-align: top;\n",
              "    }\n",
              "\n",
              "    .dataframe thead th {\n",
              "        text-align: right;\n",
              "    }\n",
              "</style>\n",
              "<table border=\"1\" class=\"dataframe\">\n",
              "  <thead>\n",
              "    <tr style=\"text-align: right;\">\n",
              "      <th></th>\n",
              "      <th>Sl. No</th>\n",
              "      <th>Patient File No.</th>\n",
              "      <th>Target</th>\n",
              "      <th>Age (yrs)</th>\n",
              "      <th>Weight (Kg)</th>\n",
              "      <th>Height(Cm)</th>\n",
              "      <th>BMI</th>\n",
              "      <th>Blood Group</th>\n",
              "      <th>Pulse rate(bpm)</th>\n",
              "      <th>RR (breaths/min)</th>\n",
              "      <th>...</th>\n",
              "      <th>Pimples(Y/N)</th>\n",
              "      <th>Fast food (Y/N)</th>\n",
              "      <th>Reg.Exercise(Y/N)</th>\n",
              "      <th>BP _Systolic (mmHg)</th>\n",
              "      <th>BP _Diastolic (mmHg)</th>\n",
              "      <th>Follicle No. (L)</th>\n",
              "      <th>Follicle No. (R)</th>\n",
              "      <th>Avg. F size (L) (mm)</th>\n",
              "      <th>Avg. F size (R) (mm)</th>\n",
              "      <th>Endometrium (mm)</th>\n",
              "    </tr>\n",
              "  </thead>\n",
              "  <tbody>\n",
              "    <tr>\n",
              "      <th>0</th>\n",
              "      <td>1</td>\n",
              "      <td>1</td>\n",
              "      <td>0</td>\n",
              "      <td>28</td>\n",
              "      <td>44.6</td>\n",
              "      <td>152.0</td>\n",
              "      <td>19.3</td>\n",
              "      <td>15</td>\n",
              "      <td>78</td>\n",
              "      <td>22</td>\n",
              "      <td>...</td>\n",
              "      <td>0</td>\n",
              "      <td>1.0</td>\n",
              "      <td>0</td>\n",
              "      <td>110</td>\n",
              "      <td>80</td>\n",
              "      <td>3</td>\n",
              "      <td>3</td>\n",
              "      <td>18.0</td>\n",
              "      <td>18.0</td>\n",
              "      <td>8.5</td>\n",
              "    </tr>\n",
              "    <tr>\n",
              "      <th>1</th>\n",
              "      <td>2</td>\n",
              "      <td>2</td>\n",
              "      <td>0</td>\n",
              "      <td>36</td>\n",
              "      <td>65.0</td>\n",
              "      <td>161.5</td>\n",
              "      <td>24.9</td>\n",
              "      <td>15</td>\n",
              "      <td>74</td>\n",
              "      <td>20</td>\n",
              "      <td>...</td>\n",
              "      <td>0</td>\n",
              "      <td>0.0</td>\n",
              "      <td>0</td>\n",
              "      <td>120</td>\n",
              "      <td>70</td>\n",
              "      <td>3</td>\n",
              "      <td>5</td>\n",
              "      <td>15.0</td>\n",
              "      <td>14.0</td>\n",
              "      <td>3.7</td>\n",
              "    </tr>\n",
              "    <tr>\n",
              "      <th>2</th>\n",
              "      <td>3</td>\n",
              "      <td>3</td>\n",
              "      <td>1</td>\n",
              "      <td>33</td>\n",
              "      <td>68.8</td>\n",
              "      <td>165.0</td>\n",
              "      <td>25.3</td>\n",
              "      <td>11</td>\n",
              "      <td>72</td>\n",
              "      <td>18</td>\n",
              "      <td>...</td>\n",
              "      <td>1</td>\n",
              "      <td>1.0</td>\n",
              "      <td>0</td>\n",
              "      <td>120</td>\n",
              "      <td>80</td>\n",
              "      <td>13</td>\n",
              "      <td>15</td>\n",
              "      <td>18.0</td>\n",
              "      <td>20.0</td>\n",
              "      <td>10.0</td>\n",
              "    </tr>\n",
              "    <tr>\n",
              "      <th>3</th>\n",
              "      <td>4</td>\n",
              "      <td>4</td>\n",
              "      <td>0</td>\n",
              "      <td>37</td>\n",
              "      <td>65.0</td>\n",
              "      <td>148.0</td>\n",
              "      <td>29.7</td>\n",
              "      <td>13</td>\n",
              "      <td>72</td>\n",
              "      <td>20</td>\n",
              "      <td>...</td>\n",
              "      <td>0</td>\n",
              "      <td>0.0</td>\n",
              "      <td>0</td>\n",
              "      <td>120</td>\n",
              "      <td>70</td>\n",
              "      <td>2</td>\n",
              "      <td>2</td>\n",
              "      <td>15.0</td>\n",
              "      <td>14.0</td>\n",
              "      <td>7.5</td>\n",
              "    </tr>\n",
              "    <tr>\n",
              "      <th>4</th>\n",
              "      <td>5</td>\n",
              "      <td>5</td>\n",
              "      <td>0</td>\n",
              "      <td>25</td>\n",
              "      <td>52.0</td>\n",
              "      <td>161.0</td>\n",
              "      <td>20.1</td>\n",
              "      <td>11</td>\n",
              "      <td>72</td>\n",
              "      <td>18</td>\n",
              "      <td>...</td>\n",
              "      <td>0</td>\n",
              "      <td>0.0</td>\n",
              "      <td>0</td>\n",
              "      <td>120</td>\n",
              "      <td>80</td>\n",
              "      <td>3</td>\n",
              "      <td>4</td>\n",
              "      <td>16.0</td>\n",
              "      <td>14.0</td>\n",
              "      <td>7.0</td>\n",
              "    </tr>\n",
              "  </tbody>\n",
              "</table>\n",
              "<p>5 rows × 44 columns</p>\n",
              "</div>\n",
              "      <button class=\"colab-df-convert\" onclick=\"convertToInteractive('df-29ccf1d4-6443-42da-912a-40afaa877b8b')\"\n",
              "              title=\"Convert this dataframe to an interactive table.\"\n",
              "              style=\"display:none;\">\n",
              "\n",
              "  <svg xmlns=\"http://www.w3.org/2000/svg\" height=\"24px\"viewBox=\"0 0 24 24\"\n",
              "       width=\"24px\">\n",
              "    <path d=\"M0 0h24v24H0V0z\" fill=\"none\"/>\n",
              "    <path d=\"M18.56 5.44l.94 2.06.94-2.06 2.06-.94-2.06-.94-.94-2.06-.94 2.06-2.06.94zm-11 1L8.5 8.5l.94-2.06 2.06-.94-2.06-.94L8.5 2.5l-.94 2.06-2.06.94zm10 10l.94 2.06.94-2.06 2.06-.94-2.06-.94-.94-2.06-.94 2.06-2.06.94z\"/><path d=\"M17.41 7.96l-1.37-1.37c-.4-.4-.92-.59-1.43-.59-.52 0-1.04.2-1.43.59L10.3 9.45l-7.72 7.72c-.78.78-.78 2.05 0 2.83L4 21.41c.39.39.9.59 1.41.59.51 0 1.02-.2 1.41-.59l7.78-7.78 2.81-2.81c.8-.78.8-2.07 0-2.86zM5.41 20L4 18.59l7.72-7.72 1.47 1.35L5.41 20z\"/>\n",
              "  </svg>\n",
              "      </button>\n",
              "\n",
              "\n",
              "\n",
              "    <div id=\"df-938d661e-61e4-4374-bf06-1ee1e32b7fda\">\n",
              "      <button class=\"colab-df-quickchart\" onclick=\"quickchart('df-938d661e-61e4-4374-bf06-1ee1e32b7fda')\"\n",
              "              title=\"Suggest charts.\"\n",
              "              style=\"display:none;\">\n",
              "\n",
              "<svg xmlns=\"http://www.w3.org/2000/svg\" height=\"24px\"viewBox=\"0 0 24 24\"\n",
              "     width=\"24px\">\n",
              "    <g>\n",
              "        <path d=\"M19 3H5c-1.1 0-2 .9-2 2v14c0 1.1.9 2 2 2h14c1.1 0 2-.9 2-2V5c0-1.1-.9-2-2-2zM9 17H7v-7h2v7zm4 0h-2V7h2v10zm4 0h-2v-4h2v4z\"/>\n",
              "    </g>\n",
              "</svg>\n",
              "      </button>\n",
              "    </div>\n",
              "\n",
              "<style>\n",
              "  .colab-df-quickchart {\n",
              "    background-color: #E8F0FE;\n",
              "    border: none;\n",
              "    border-radius: 50%;\n",
              "    cursor: pointer;\n",
              "    display: none;\n",
              "    fill: #1967D2;\n",
              "    height: 32px;\n",
              "    padding: 0 0 0 0;\n",
              "    width: 32px;\n",
              "  }\n",
              "\n",
              "  .colab-df-quickchart:hover {\n",
              "    background-color: #E2EBFA;\n",
              "    box-shadow: 0px 1px 2px rgba(60, 64, 67, 0.3), 0px 1px 3px 1px rgba(60, 64, 67, 0.15);\n",
              "    fill: #174EA6;\n",
              "  }\n",
              "\n",
              "  [theme=dark] .colab-df-quickchart {\n",
              "    background-color: #3B4455;\n",
              "    fill: #D2E3FC;\n",
              "  }\n",
              "\n",
              "  [theme=dark] .colab-df-quickchart:hover {\n",
              "    background-color: #434B5C;\n",
              "    box-shadow: 0px 1px 3px 1px rgba(0, 0, 0, 0.15);\n",
              "    filter: drop-shadow(0px 1px 2px rgba(0, 0, 0, 0.3));\n",
              "    fill: #FFFFFF;\n",
              "  }\n",
              "</style>\n",
              "\n",
              "    <script>\n",
              "      async function quickchart(key) {\n",
              "        const containerElement = document.querySelector('#' + key);\n",
              "        const charts = await google.colab.kernel.invokeFunction(\n",
              "            'suggestCharts', [key], {});\n",
              "      }\n",
              "    </script>\n",
              "\n",
              "      <script>\n",
              "\n",
              "function displayQuickchartButton(domScope) {\n",
              "  let quickchartButtonEl =\n",
              "    domScope.querySelector('#df-938d661e-61e4-4374-bf06-1ee1e32b7fda button.colab-df-quickchart');\n",
              "  quickchartButtonEl.style.display =\n",
              "    google.colab.kernel.accessAllowed ? 'block' : 'none';\n",
              "}\n",
              "\n",
              "        displayQuickchartButton(document);\n",
              "      </script>\n",
              "      <style>\n",
              "    .colab-df-container {\n",
              "      display:flex;\n",
              "      flex-wrap:wrap;\n",
              "      gap: 12px;\n",
              "    }\n",
              "\n",
              "    .colab-df-convert {\n",
              "      background-color: #E8F0FE;\n",
              "      border: none;\n",
              "      border-radius: 50%;\n",
              "      cursor: pointer;\n",
              "      display: none;\n",
              "      fill: #1967D2;\n",
              "      height: 32px;\n",
              "      padding: 0 0 0 0;\n",
              "      width: 32px;\n",
              "    }\n",
              "\n",
              "    .colab-df-convert:hover {\n",
              "      background-color: #E2EBFA;\n",
              "      box-shadow: 0px 1px 2px rgba(60, 64, 67, 0.3), 0px 1px 3px 1px rgba(60, 64, 67, 0.15);\n",
              "      fill: #174EA6;\n",
              "    }\n",
              "\n",
              "    [theme=dark] .colab-df-convert {\n",
              "      background-color: #3B4455;\n",
              "      fill: #D2E3FC;\n",
              "    }\n",
              "\n",
              "    [theme=dark] .colab-df-convert:hover {\n",
              "      background-color: #434B5C;\n",
              "      box-shadow: 0px 1px 3px 1px rgba(0, 0, 0, 0.15);\n",
              "      filter: drop-shadow(0px 1px 2px rgba(0, 0, 0, 0.3));\n",
              "      fill: #FFFFFF;\n",
              "    }\n",
              "  </style>\n",
              "\n",
              "      <script>\n",
              "        const buttonEl =\n",
              "          document.querySelector('#df-29ccf1d4-6443-42da-912a-40afaa877b8b button.colab-df-convert');\n",
              "        buttonEl.style.display =\n",
              "          google.colab.kernel.accessAllowed ? 'block' : 'none';\n",
              "\n",
              "        async function convertToInteractive(key) {\n",
              "          const element = document.querySelector('#df-29ccf1d4-6443-42da-912a-40afaa877b8b');\n",
              "          const dataTable =\n",
              "            await google.colab.kernel.invokeFunction('convertToInteractive',\n",
              "                                                     [key], {});\n",
              "          if (!dataTable) return;\n",
              "\n",
              "          const docLinkHtml = 'Like what you see? Visit the ' +\n",
              "            '<a target=\"_blank\" href=https://colab.research.google.com/notebooks/data_table.ipynb>data table notebook</a>'\n",
              "            + ' to learn more about interactive tables.';\n",
              "          element.innerHTML = '';\n",
              "          dataTable['output_type'] = 'display_data';\n",
              "          await google.colab.output.renderOutput(dataTable, element);\n",
              "          const docLink = document.createElement('div');\n",
              "          docLink.innerHTML = docLinkHtml;\n",
              "          element.appendChild(docLink);\n",
              "        }\n",
              "      </script>\n",
              "    </div>\n",
              "  </div>\n"
            ]
          },
          "metadata": {},
          "execution_count": 15
        }
      ]
    },
    {
      "cell_type": "code",
      "source": [
        "# drop the SI No and Patinet File number columns\n",
        "data = data.drop([\"Sl. No\", \"Patient File No.\"], axis = 1)"
      ],
      "metadata": {
        "execution": {
          "iopub.status.busy": "2022-07-18T11:32:20.399931Z",
          "iopub.execute_input": "2022-07-18T11:32:20.40074Z",
          "iopub.status.idle": "2022-07-18T11:32:20.406721Z",
          "shell.execute_reply.started": "2022-07-18T11:32:20.400703Z",
          "shell.execute_reply": "2022-07-18T11:32:20.405884Z"
        },
        "trusted": true,
        "id": "Nymzks0Q94UL"
      },
      "execution_count": 16,
      "outputs": []
    },
    {
      "cell_type": "code",
      "source": [
        "data.head()"
      ],
      "metadata": {
        "execution": {
          "iopub.status.busy": "2022-07-18T11:32:20.408112Z",
          "iopub.execute_input": "2022-07-18T11:32:20.40868Z",
          "iopub.status.idle": "2022-07-18T11:32:20.438929Z",
          "shell.execute_reply.started": "2022-07-18T11:32:20.408644Z",
          "shell.execute_reply": "2022-07-18T11:32:20.438103Z"
        },
        "trusted": true,
        "colab": {
          "base_uri": "https://localhost:8080/",
          "height": 369
        },
        "id": "HlpDGcUG94UL",
        "outputId": "5320612e-0385-4cd8-824d-2d2a078648e8"
      },
      "execution_count": 17,
      "outputs": [
        {
          "output_type": "execute_result",
          "data": {
            "text/plain": [
              "   Target   Age (yrs)  Weight (Kg)  Height(Cm)    BMI  Blood Group  \\\n",
              "0       0          28         44.6        152.0  19.3           15   \n",
              "1       0          36         65.0        161.5  24.9           15   \n",
              "2       1          33         68.8        165.0  25.3           11   \n",
              "3       0          37         65.0        148.0  29.7           13   \n",
              "4       0          25         52.0        161.0  20.1           11   \n",
              "\n",
              "   Pulse rate(bpm)   RR (breaths/min)  Hb(g/dl)  Cycle(R/I)  ...  \\\n",
              "0                78                22     10.48           2  ...   \n",
              "1                74                20     11.70           2  ...   \n",
              "2                72                18     11.80           2  ...   \n",
              "3                72                20     12.00           2  ...   \n",
              "4                72                18     10.00           2  ...   \n",
              "\n",
              "   Pimples(Y/N)  Fast food (Y/N)  Reg.Exercise(Y/N)  BP _Systolic (mmHg)  \\\n",
              "0             0              1.0                  0                  110   \n",
              "1             0              0.0                  0                  120   \n",
              "2             1              1.0                  0                  120   \n",
              "3             0              0.0                  0                  120   \n",
              "4             0              0.0                  0                  120   \n",
              "\n",
              "   BP _Diastolic (mmHg) Follicle No. (L)  Follicle No. (R)  \\\n",
              "0                    80                3                 3   \n",
              "1                    70                3                 5   \n",
              "2                    80               13                15   \n",
              "3                    70                2                 2   \n",
              "4                    80                3                 4   \n",
              "\n",
              "   Avg. F size (L) (mm)  Avg. F size (R) (mm)  Endometrium (mm)  \n",
              "0                  18.0                  18.0               8.5  \n",
              "1                  15.0                  14.0               3.7  \n",
              "2                  18.0                  20.0              10.0  \n",
              "3                  15.0                  14.0               7.5  \n",
              "4                  16.0                  14.0               7.0  \n",
              "\n",
              "[5 rows x 42 columns]"
            ],
            "text/html": [
              "\n",
              "\n",
              "  <div id=\"df-3aa50bab-832f-4c28-adfb-4881fcc1e37e\">\n",
              "    <div class=\"colab-df-container\">\n",
              "      <div>\n",
              "<style scoped>\n",
              "    .dataframe tbody tr th:only-of-type {\n",
              "        vertical-align: middle;\n",
              "    }\n",
              "\n",
              "    .dataframe tbody tr th {\n",
              "        vertical-align: top;\n",
              "    }\n",
              "\n",
              "    .dataframe thead th {\n",
              "        text-align: right;\n",
              "    }\n",
              "</style>\n",
              "<table border=\"1\" class=\"dataframe\">\n",
              "  <thead>\n",
              "    <tr style=\"text-align: right;\">\n",
              "      <th></th>\n",
              "      <th>Target</th>\n",
              "      <th>Age (yrs)</th>\n",
              "      <th>Weight (Kg)</th>\n",
              "      <th>Height(Cm)</th>\n",
              "      <th>BMI</th>\n",
              "      <th>Blood Group</th>\n",
              "      <th>Pulse rate(bpm)</th>\n",
              "      <th>RR (breaths/min)</th>\n",
              "      <th>Hb(g/dl)</th>\n",
              "      <th>Cycle(R/I)</th>\n",
              "      <th>...</th>\n",
              "      <th>Pimples(Y/N)</th>\n",
              "      <th>Fast food (Y/N)</th>\n",
              "      <th>Reg.Exercise(Y/N)</th>\n",
              "      <th>BP _Systolic (mmHg)</th>\n",
              "      <th>BP _Diastolic (mmHg)</th>\n",
              "      <th>Follicle No. (L)</th>\n",
              "      <th>Follicle No. (R)</th>\n",
              "      <th>Avg. F size (L) (mm)</th>\n",
              "      <th>Avg. F size (R) (mm)</th>\n",
              "      <th>Endometrium (mm)</th>\n",
              "    </tr>\n",
              "  </thead>\n",
              "  <tbody>\n",
              "    <tr>\n",
              "      <th>0</th>\n",
              "      <td>0</td>\n",
              "      <td>28</td>\n",
              "      <td>44.6</td>\n",
              "      <td>152.0</td>\n",
              "      <td>19.3</td>\n",
              "      <td>15</td>\n",
              "      <td>78</td>\n",
              "      <td>22</td>\n",
              "      <td>10.48</td>\n",
              "      <td>2</td>\n",
              "      <td>...</td>\n",
              "      <td>0</td>\n",
              "      <td>1.0</td>\n",
              "      <td>0</td>\n",
              "      <td>110</td>\n",
              "      <td>80</td>\n",
              "      <td>3</td>\n",
              "      <td>3</td>\n",
              "      <td>18.0</td>\n",
              "      <td>18.0</td>\n",
              "      <td>8.5</td>\n",
              "    </tr>\n",
              "    <tr>\n",
              "      <th>1</th>\n",
              "      <td>0</td>\n",
              "      <td>36</td>\n",
              "      <td>65.0</td>\n",
              "      <td>161.5</td>\n",
              "      <td>24.9</td>\n",
              "      <td>15</td>\n",
              "      <td>74</td>\n",
              "      <td>20</td>\n",
              "      <td>11.70</td>\n",
              "      <td>2</td>\n",
              "      <td>...</td>\n",
              "      <td>0</td>\n",
              "      <td>0.0</td>\n",
              "      <td>0</td>\n",
              "      <td>120</td>\n",
              "      <td>70</td>\n",
              "      <td>3</td>\n",
              "      <td>5</td>\n",
              "      <td>15.0</td>\n",
              "      <td>14.0</td>\n",
              "      <td>3.7</td>\n",
              "    </tr>\n",
              "    <tr>\n",
              "      <th>2</th>\n",
              "      <td>1</td>\n",
              "      <td>33</td>\n",
              "      <td>68.8</td>\n",
              "      <td>165.0</td>\n",
              "      <td>25.3</td>\n",
              "      <td>11</td>\n",
              "      <td>72</td>\n",
              "      <td>18</td>\n",
              "      <td>11.80</td>\n",
              "      <td>2</td>\n",
              "      <td>...</td>\n",
              "      <td>1</td>\n",
              "      <td>1.0</td>\n",
              "      <td>0</td>\n",
              "      <td>120</td>\n",
              "      <td>80</td>\n",
              "      <td>13</td>\n",
              "      <td>15</td>\n",
              "      <td>18.0</td>\n",
              "      <td>20.0</td>\n",
              "      <td>10.0</td>\n",
              "    </tr>\n",
              "    <tr>\n",
              "      <th>3</th>\n",
              "      <td>0</td>\n",
              "      <td>37</td>\n",
              "      <td>65.0</td>\n",
              "      <td>148.0</td>\n",
              "      <td>29.7</td>\n",
              "      <td>13</td>\n",
              "      <td>72</td>\n",
              "      <td>20</td>\n",
              "      <td>12.00</td>\n",
              "      <td>2</td>\n",
              "      <td>...</td>\n",
              "      <td>0</td>\n",
              "      <td>0.0</td>\n",
              "      <td>0</td>\n",
              "      <td>120</td>\n",
              "      <td>70</td>\n",
              "      <td>2</td>\n",
              "      <td>2</td>\n",
              "      <td>15.0</td>\n",
              "      <td>14.0</td>\n",
              "      <td>7.5</td>\n",
              "    </tr>\n",
              "    <tr>\n",
              "      <th>4</th>\n",
              "      <td>0</td>\n",
              "      <td>25</td>\n",
              "      <td>52.0</td>\n",
              "      <td>161.0</td>\n",
              "      <td>20.1</td>\n",
              "      <td>11</td>\n",
              "      <td>72</td>\n",
              "      <td>18</td>\n",
              "      <td>10.00</td>\n",
              "      <td>2</td>\n",
              "      <td>...</td>\n",
              "      <td>0</td>\n",
              "      <td>0.0</td>\n",
              "      <td>0</td>\n",
              "      <td>120</td>\n",
              "      <td>80</td>\n",
              "      <td>3</td>\n",
              "      <td>4</td>\n",
              "      <td>16.0</td>\n",
              "      <td>14.0</td>\n",
              "      <td>7.0</td>\n",
              "    </tr>\n",
              "  </tbody>\n",
              "</table>\n",
              "<p>5 rows × 42 columns</p>\n",
              "</div>\n",
              "      <button class=\"colab-df-convert\" onclick=\"convertToInteractive('df-3aa50bab-832f-4c28-adfb-4881fcc1e37e')\"\n",
              "              title=\"Convert this dataframe to an interactive table.\"\n",
              "              style=\"display:none;\">\n",
              "\n",
              "  <svg xmlns=\"http://www.w3.org/2000/svg\" height=\"24px\"viewBox=\"0 0 24 24\"\n",
              "       width=\"24px\">\n",
              "    <path d=\"M0 0h24v24H0V0z\" fill=\"none\"/>\n",
              "    <path d=\"M18.56 5.44l.94 2.06.94-2.06 2.06-.94-2.06-.94-.94-2.06-.94 2.06-2.06.94zm-11 1L8.5 8.5l.94-2.06 2.06-.94-2.06-.94L8.5 2.5l-.94 2.06-2.06.94zm10 10l.94 2.06.94-2.06 2.06-.94-2.06-.94-.94-2.06-.94 2.06-2.06.94z\"/><path d=\"M17.41 7.96l-1.37-1.37c-.4-.4-.92-.59-1.43-.59-.52 0-1.04.2-1.43.59L10.3 9.45l-7.72 7.72c-.78.78-.78 2.05 0 2.83L4 21.41c.39.39.9.59 1.41.59.51 0 1.02-.2 1.41-.59l7.78-7.78 2.81-2.81c.8-.78.8-2.07 0-2.86zM5.41 20L4 18.59l7.72-7.72 1.47 1.35L5.41 20z\"/>\n",
              "  </svg>\n",
              "      </button>\n",
              "\n",
              "\n",
              "\n",
              "    <div id=\"df-d4e53964-491b-4a7d-a2a8-98824166c3c9\">\n",
              "      <button class=\"colab-df-quickchart\" onclick=\"quickchart('df-d4e53964-491b-4a7d-a2a8-98824166c3c9')\"\n",
              "              title=\"Suggest charts.\"\n",
              "              style=\"display:none;\">\n",
              "\n",
              "<svg xmlns=\"http://www.w3.org/2000/svg\" height=\"24px\"viewBox=\"0 0 24 24\"\n",
              "     width=\"24px\">\n",
              "    <g>\n",
              "        <path d=\"M19 3H5c-1.1 0-2 .9-2 2v14c0 1.1.9 2 2 2h14c1.1 0 2-.9 2-2V5c0-1.1-.9-2-2-2zM9 17H7v-7h2v7zm4 0h-2V7h2v10zm4 0h-2v-4h2v4z\"/>\n",
              "    </g>\n",
              "</svg>\n",
              "      </button>\n",
              "    </div>\n",
              "\n",
              "<style>\n",
              "  .colab-df-quickchart {\n",
              "    background-color: #E8F0FE;\n",
              "    border: none;\n",
              "    border-radius: 50%;\n",
              "    cursor: pointer;\n",
              "    display: none;\n",
              "    fill: #1967D2;\n",
              "    height: 32px;\n",
              "    padding: 0 0 0 0;\n",
              "    width: 32px;\n",
              "  }\n",
              "\n",
              "  .colab-df-quickchart:hover {\n",
              "    background-color: #E2EBFA;\n",
              "    box-shadow: 0px 1px 2px rgba(60, 64, 67, 0.3), 0px 1px 3px 1px rgba(60, 64, 67, 0.15);\n",
              "    fill: #174EA6;\n",
              "  }\n",
              "\n",
              "  [theme=dark] .colab-df-quickchart {\n",
              "    background-color: #3B4455;\n",
              "    fill: #D2E3FC;\n",
              "  }\n",
              "\n",
              "  [theme=dark] .colab-df-quickchart:hover {\n",
              "    background-color: #434B5C;\n",
              "    box-shadow: 0px 1px 3px 1px rgba(0, 0, 0, 0.15);\n",
              "    filter: drop-shadow(0px 1px 2px rgba(0, 0, 0, 0.3));\n",
              "    fill: #FFFFFF;\n",
              "  }\n",
              "</style>\n",
              "\n",
              "    <script>\n",
              "      async function quickchart(key) {\n",
              "        const containerElement = document.querySelector('#' + key);\n",
              "        const charts = await google.colab.kernel.invokeFunction(\n",
              "            'suggestCharts', [key], {});\n",
              "      }\n",
              "    </script>\n",
              "\n",
              "      <script>\n",
              "\n",
              "function displayQuickchartButton(domScope) {\n",
              "  let quickchartButtonEl =\n",
              "    domScope.querySelector('#df-d4e53964-491b-4a7d-a2a8-98824166c3c9 button.colab-df-quickchart');\n",
              "  quickchartButtonEl.style.display =\n",
              "    google.colab.kernel.accessAllowed ? 'block' : 'none';\n",
              "}\n",
              "\n",
              "        displayQuickchartButton(document);\n",
              "      </script>\n",
              "      <style>\n",
              "    .colab-df-container {\n",
              "      display:flex;\n",
              "      flex-wrap:wrap;\n",
              "      gap: 12px;\n",
              "    }\n",
              "\n",
              "    .colab-df-convert {\n",
              "      background-color: #E8F0FE;\n",
              "      border: none;\n",
              "      border-radius: 50%;\n",
              "      cursor: pointer;\n",
              "      display: none;\n",
              "      fill: #1967D2;\n",
              "      height: 32px;\n",
              "      padding: 0 0 0 0;\n",
              "      width: 32px;\n",
              "    }\n",
              "\n",
              "    .colab-df-convert:hover {\n",
              "      background-color: #E2EBFA;\n",
              "      box-shadow: 0px 1px 2px rgba(60, 64, 67, 0.3), 0px 1px 3px 1px rgba(60, 64, 67, 0.15);\n",
              "      fill: #174EA6;\n",
              "    }\n",
              "\n",
              "    [theme=dark] .colab-df-convert {\n",
              "      background-color: #3B4455;\n",
              "      fill: #D2E3FC;\n",
              "    }\n",
              "\n",
              "    [theme=dark] .colab-df-convert:hover {\n",
              "      background-color: #434B5C;\n",
              "      box-shadow: 0px 1px 3px 1px rgba(0, 0, 0, 0.15);\n",
              "      filter: drop-shadow(0px 1px 2px rgba(0, 0, 0, 0.3));\n",
              "      fill: #FFFFFF;\n",
              "    }\n",
              "  </style>\n",
              "\n",
              "      <script>\n",
              "        const buttonEl =\n",
              "          document.querySelector('#df-3aa50bab-832f-4c28-adfb-4881fcc1e37e button.colab-df-convert');\n",
              "        buttonEl.style.display =\n",
              "          google.colab.kernel.accessAllowed ? 'block' : 'none';\n",
              "\n",
              "        async function convertToInteractive(key) {\n",
              "          const element = document.querySelector('#df-3aa50bab-832f-4c28-adfb-4881fcc1e37e');\n",
              "          const dataTable =\n",
              "            await google.colab.kernel.invokeFunction('convertToInteractive',\n",
              "                                                     [key], {});\n",
              "          if (!dataTable) return;\n",
              "\n",
              "          const docLinkHtml = 'Like what you see? Visit the ' +\n",
              "            '<a target=\"_blank\" href=https://colab.research.google.com/notebooks/data_table.ipynb>data table notebook</a>'\n",
              "            + ' to learn more about interactive tables.';\n",
              "          element.innerHTML = '';\n",
              "          dataTable['output_type'] = 'display_data';\n",
              "          await google.colab.output.renderOutput(dataTable, element);\n",
              "          const docLink = document.createElement('div');\n",
              "          docLink.innerHTML = docLinkHtml;\n",
              "          element.appendChild(docLink);\n",
              "        }\n",
              "      </script>\n",
              "    </div>\n",
              "  </div>\n"
            ]
          },
          "metadata": {},
          "execution_count": 17
        }
      ]
    },
    {
      "cell_type": "code",
      "source": [
        "# explore the variable of dtype object\n",
        "data[\"AMH(ng/mL)\"].head()"
      ],
      "metadata": {
        "execution": {
          "iopub.status.busy": "2022-07-18T11:32:20.440655Z",
          "iopub.execute_input": "2022-07-18T11:32:20.441465Z",
          "iopub.status.idle": "2022-07-18T11:32:20.449991Z",
          "shell.execute_reply.started": "2022-07-18T11:32:20.44142Z",
          "shell.execute_reply": "2022-07-18T11:32:20.449212Z"
        },
        "trusted": true,
        "colab": {
          "base_uri": "https://localhost:8080/"
        },
        "id": "3sC-Q4-q94UM",
        "outputId": "853ec819-b04f-4297-f383-11810eff5eef"
      },
      "execution_count": 18,
      "outputs": [
        {
          "output_type": "execute_result",
          "data": {
            "text/plain": [
              "0    2.07\n",
              "1    1.53\n",
              "2    6.63\n",
              "3    1.22\n",
              "4    2.26\n",
              "Name: AMH(ng/mL), dtype: object"
            ]
          },
          "metadata": {},
          "execution_count": 18
        }
      ]
    },
    {
      "cell_type": "code",
      "source": [
        "data[\"II    beta-HCG(mIU/mL)\"].head()"
      ],
      "metadata": {
        "execution": {
          "iopub.status.busy": "2022-07-18T11:32:20.451436Z",
          "iopub.execute_input": "2022-07-18T11:32:20.451941Z",
          "iopub.status.idle": "2022-07-18T11:32:20.46045Z",
          "shell.execute_reply.started": "2022-07-18T11:32:20.451912Z",
          "shell.execute_reply": "2022-07-18T11:32:20.459572Z"
        },
        "trusted": true,
        "colab": {
          "base_uri": "https://localhost:8080/"
        },
        "id": "rN3S-4E694UM",
        "outputId": "5731965d-d635-49e9-9b77-a9e23be5a24d"
      },
      "execution_count": 19,
      "outputs": [
        {
          "output_type": "execute_result",
          "data": {
            "text/plain": [
              "0      1.99\n",
              "1      1.99\n",
              "2    494.08\n",
              "3      1.99\n",
              "4    801.45\n",
              "Name: II    beta-HCG(mIU/mL), dtype: object"
            ]
          },
          "metadata": {},
          "execution_count": 19
        }
      ]
    },
    {
      "cell_type": "code",
      "source": [
        "# convert from object dtype to float\n",
        "data[\"AMH(ng/mL)\"] = pd.to_numeric(data[\"AMH(ng/mL)\"], errors='coerce')\n",
        "data[\"II    beta-HCG(mIU/mL)\"] = pd.to_numeric(data[\"II    beta-HCG(mIU/mL)\"], errors='coerce')"
      ],
      "metadata": {
        "execution": {
          "iopub.status.busy": "2022-07-18T11:32:20.462368Z",
          "iopub.execute_input": "2022-07-18T11:32:20.464653Z",
          "iopub.status.idle": "2022-07-18T11:32:20.471528Z",
          "shell.execute_reply.started": "2022-07-18T11:32:20.464604Z",
          "shell.execute_reply": "2022-07-18T11:32:20.470388Z"
        },
        "trusted": true,
        "id": "Mud3sRqS94UM"
      },
      "execution_count": 20,
      "outputs": []
    },
    {
      "cell_type": "markdown",
      "source": [
        "# **Dataset Visualization**"
      ],
      "metadata": {
        "id": "Nc_qbE7R94UM"
      }
    },
    {
      "cell_type": "code",
      "source": [
        "color = ['#B22222', '#FF7D40']"
      ],
      "metadata": {
        "execution": {
          "iopub.status.busy": "2022-07-18T11:32:20.486466Z",
          "iopub.execute_input": "2022-07-18T11:32:20.487251Z",
          "iopub.status.idle": "2022-07-18T11:32:20.493845Z",
          "shell.execute_reply.started": "2022-07-18T11:32:20.487207Z",
          "shell.execute_reply": "2022-07-18T11:32:20.493113Z"
        },
        "trusted": true,
        "id": "-acedqrg94UM"
      },
      "execution_count": 21,
      "outputs": []
    },
    {
      "cell_type": "code",
      "source": [
        "def bar_plot(variable):\n",
        "    \"\"\"\n",
        "     input: variable example : Target\n",
        "     output: bar plot & value count\n",
        "\n",
        "    \"\"\"\n",
        "    #get feature\n",
        "    var = data[variable]\n",
        "    #count number of categorical variable(value/sample)\n",
        "    varValue = var.value_counts()\n",
        "    #print(varValue)\n",
        "    #visualize\n",
        "    plt.figure(figsize = (9,3))\n",
        "    plt.bar(varValue.index,varValue,color=color)\n",
        "    plt.xticks(varValue.index,varValue.index.values)\n",
        "    plt.ylabel(\"Count\")\n",
        "    plt.title(variable)\n",
        "    plt.show()\n",
        "    print(\"{}: \\n {}\".format(variable,varValue))"
      ],
      "metadata": {
        "execution": {
          "iopub.status.busy": "2022-07-18T11:32:20.495431Z",
          "iopub.execute_input": "2022-07-18T11:32:20.496156Z",
          "iopub.status.idle": "2022-07-18T11:32:20.510601Z",
          "shell.execute_reply.started": "2022-07-18T11:32:20.496113Z",
          "shell.execute_reply": "2022-07-18T11:32:20.509633Z"
        },
        "trusted": true,
        "id": "kpLOPxvA94UM"
      },
      "execution_count": 22,
      "outputs": []
    },
    {
      "cell_type": "code",
      "source": [
        "category = [\"Target\", \"Pregnant(Y/N)\", \"Weight gain(Y/N)\", \"hair growth(Y/N)\", \"Skin darkening (Y/N)\", \"Hair loss(Y/N)\",\n",
        "            \"Pimples(Y/N)\", \"Fast food (Y/N)\", \"Reg.Exercise(Y/N)\", \"Blood Group\"]\n",
        "for c in category:\n",
        "    bar_plot(c)"
      ],
      "metadata": {
        "execution": {
          "iopub.status.busy": "2022-07-18T11:32:20.512015Z",
          "iopub.execute_input": "2022-07-18T11:32:20.512654Z",
          "iopub.status.idle": "2022-07-18T11:32:22.070234Z",
          "shell.execute_reply.started": "2022-07-18T11:32:20.512608Z",
          "shell.execute_reply": "2022-07-18T11:32:22.069523Z"
        },
        "trusted": true,
        "colab": {
          "base_uri": "https://localhost:8080/",
          "height": 1000
        },
        "id": "050XVAp794UM",
        "outputId": "d16e64bb-0165-4422-eb2c-0ba4a8cac9b2"
      },
      "execution_count": 23,
      "outputs": [
        {
          "output_type": "display_data",
          "data": {
            "text/plain": [
              "<Figure size 900x300 with 1 Axes>"
            ],
            "image/png": "[encoded data removed]"
          },
          "metadata": {}
        },
        {
          "output_type": "stream",
          "name": "stdout",
          "text": [
            "Target: \n",
            " 0    364\n",
            "1    177\n",
            "Name: Target, dtype: int64\n"
          ]
        },
        {
          "output_type": "display_data",
          "data": {
            "text/plain": [
              "<Figure size 900x300 with 1 Axes>"
            ],
            "image/png": "[encoded data removed]"
          },
          "metadata": {}
        },
        {
          "output_type": "stream",
          "name": "stdout",
          "text": [
            "Pregnant(Y/N): \n",
            " 0    335\n",
            "1    206\n",
            "Name: Pregnant(Y/N), dtype: int64\n"
          ]
        },
        {
          "output_type": "display_data",
          "data": {
            "text/plain": [
              "<Figure size 900x300 with 1 Axes>"
            ],
            "image/png": "[encoded data removed]"
          },
          "metadata": {}
        },
        {
          "output_type": "stream",
          "name": "stdout",
          "text": [
            "Weight gain(Y/N): \n",
            " 0    337\n",
            "1    204\n",
            "Name: Weight gain(Y/N), dtype: int64\n"
          ]
        },
        {
          "output_type": "display_data",
          "data": {
            "text/plain": [
              "<Figure size 900x300 with 1 Axes>"
            ],
            "image/png": "[encoded data removed]"
          },
          "metadata": {}
        },
        {
          "output_type": "stream",
          "name": "stdout",
          "text": [
            "hair growth(Y/N): \n",
            " 0    393\n",
            "1    148\n",
            "Name: hair growth(Y/N), dtype: int64\n"
          ]
        },
        {
          "output_type": "display_data",
          "data": {
            "text/plain": [
              "<Figure size 900x300 with 1 Axes>"
            ],
            "image/png": "[encoded data removed]"
          },
          "metadata": {}
        },
        {
          "output_type": "stream",
          "name": "stdout",
          "text": [
            "Skin darkening (Y/N): \n",
            " 0    375\n",
            "1    166\n",
            "Name: Skin darkening (Y/N), dtype: int64\n"
          ]
        },
        {
          "output_type": "display_data",
          "data": {
            "text/plain": [
              "<Figure size 900x300 with 1 Axes>"
            ],
            "image/png": "[encoded data removed]"
          },
          "metadata": {}
        },
        {
          "output_type": "stream",
          "name": "stdout",
          "text": [
            "Hair loss(Y/N): \n",
            " 0    296\n",
            "1    245\n",
            "Name: Hair loss(Y/N), dtype: int64\n"
          ]
        },
        {
          "output_type": "display_data",
          "data": {
            "text/plain": [
              "<Figure size 900x300 with 1 Axes>"
            ],
            "image/png": "[encoded data removed]"
          },
          "metadata": {}
        },
        {
          "output_type": "stream",
          "name": "stdout",
          "text": [
            "Pimples(Y/N): \n",
            " 0    276\n",
            "1    265\n",
            "Name: Pimples(Y/N), dtype: int64\n"
          ]
        },
        {
          "output_type": "display_data",
          "data": {
            "text/plain": [
              "<Figure size 900x300 with 1 Axes>"
            ],
            "image/png": "[encoded data removed]"
          },
          "metadata": {}
        },
        {
          "output_type": "stream",
          "name": "stdout",
          "text": [
            "Fast food (Y/N): \n",
            " 1.000000    278\n",
            "0.000000    262\n",
            "0.514815      1\n",
            "Name: Fast food (Y/N), dtype: int64\n"
          ]
        },
        {
          "output_type": "display_data",
          "data": {
            "text/plain": [
              "<Figure size 900x300 with 1 Axes>"
            ],
            "image/png": "[encoded data removed]"
          },
          "metadata": {}
        },
        {
          "output_type": "stream",
          "name": "stdout",
          "text": [
            "Reg.Exercise(Y/N): \n",
            " 0    407\n",
            "1    134\n",
            "Name: Reg.Exercise(Y/N), dtype: int64\n"
          ]
        },
        {
          "output_type": "display_data",
          "data": {
            "text/plain": [
              "<Figure size 900x300 with 1 Axes>"
            ],
            "image/png": "[encoded data removed]"
          },
          "metadata": {}
        },
        {
          "output_type": "stream",
          "name": "stdout",
          "text": [
            "Blood Group: \n",
            " 15    206\n",
            "13    135\n",
            "11    108\n",
            "17     42\n",
            "16     19\n",
            "14     16\n",
            "12     13\n",
            "18      2\n",
            "Name: Blood Group, dtype: int64\n"
          ]
        }
      ]
    },
    {
      "cell_type": "code",
      "source": [
        "def plot_hist(variable):\n",
        "    plt.figure(figsize = (9,3))\n",
        "    plt.hist(data[variable], bins = 50,color=color[0])\n",
        "    plt.xlabel(variable)\n",
        "    plt.ylabel(\"Frequency\")\n",
        "    plt.title(\"{} distribution with hist\".format(variable))\n",
        "    plt.show()"
      ],
      "metadata": {
        "execution": {
          "iopub.status.busy": "2022-07-18T11:32:22.071321Z",
          "iopub.execute_input": "2022-07-18T11:32:22.072004Z",
          "iopub.status.idle": "2022-07-18T11:32:22.079267Z",
          "shell.execute_reply.started": "2022-07-18T11:32:22.07196Z",
          "shell.execute_reply": "2022-07-18T11:32:22.078057Z"
        },
        "trusted": true,
        "id": "whnfq_qf94UM"
      },
      "execution_count": 24,
      "outputs": []
    },
    {
      "cell_type": "code",
      "source": [
        "numericalVariables = [\" Age (yrs)\", \"Weight (Kg)\", \"BMI\", \"Marraige Status (Yrs)\"]\n",
        "for n in numericalVariables:\n",
        "    plot_hist(n)"
      ],
      "metadata": {
        "execution": {
          "iopub.status.busy": "2022-07-18T11:32:22.080712Z",
          "iopub.execute_input": "2022-07-18T11:32:22.081673Z",
          "iopub.status.idle": "2022-07-18T11:32:23.109123Z",
          "shell.execute_reply.started": "2022-07-18T11:32:22.08163Z",
          "shell.execute_reply": "2022-07-18T11:32:23.108267Z"
        },
        "trusted": true,
        "colab": {
          "base_uri": "https://localhost:8080/",
          "height": 1000
        },
        "id": "Qh_dPjd794UM",
        "outputId": "9fef3536-483e-4d49-e95a-1f5e04f1481f"
      },
      "execution_count": 25,
      "outputs": [
        {
          "output_type": "display_data",
          "data": {
            "text/plain": [
              "<Figure size 900x300 with 1 Axes>"
            ],
            "image/png": "[encoded data removed]"
          },
          "metadata": {}
        },
        {
          "output_type": "display_data",
          "data": {
            "text/plain": [
              "<Figure size 900x300 with 1 Axes>"
            ],
            "image/png": "[encoded data removed]"
          },
          "metadata": {}
        },
        {
          "output_type": "display_data",
          "data": {
            "text/plain": [
              "<Figure size 900x300 with 1 Axes>"
            ],
            "image/png": "[encoded data removed]"
          },
          "metadata": {}
        },
        {
          "output_type": "display_data",
          "data": {
            "text/plain": [
              "<Figure size 900x300 with 1 Axes>"
            ],
            "image/png": "[encoded data removed]"
          },
          "metadata": {}
        }
      ]
    },
    {
      "cell_type": "markdown",
      "source": [
        "# **Data Analysis**"
      ],
      "metadata": {
        "id": "VHgaNoy594UM"
      }
    },
    {
      "cell_type": "code",
      "source": [
        "data.describe()"
      ],
      "metadata": {
        "execution": {
          "iopub.status.busy": "2022-07-18T11:32:23.120412Z",
          "iopub.execute_input": "2022-07-18T11:32:23.120718Z",
          "iopub.status.idle": "2022-07-18T11:32:23.364977Z",
          "shell.execute_reply.started": "2022-07-18T11:32:23.120689Z",
          "shell.execute_reply": "2022-07-18T11:32:23.363823Z"
        },
        "trusted": true,
        "colab": {
          "base_uri": "https://localhost:8080/",
          "height": 428
        },
        "id": "QavAhRfV94UN",
        "outputId": "1fc9cf2f-389d-48c3-9f3f-f526702cffe7"
      },
      "execution_count": 26,
      "outputs": [
        {
          "output_type": "execute_result",
          "data": {
            "text/plain": [
              "           Target   Age (yrs)  Weight (Kg)  Height(Cm)          BMI  \\\n",
              "count  541.000000  541.000000   541.000000   541.000000  541.000000   \n",
              "mean     0.327172   31.430684    59.637153   156.484835   24.307579   \n",
              "std      0.469615    5.411006    11.028287     6.033545    4.055129   \n",
              "min      0.000000   20.000000    31.000000   137.000000   12.400000   \n",
              "25%      0.000000   28.000000    52.000000   152.000000   21.600000   \n",
              "50%      0.000000   31.000000    59.000000   156.000000   24.200000   \n",
              "75%      1.000000   35.000000    65.000000   160.000000   26.600000   \n",
              "max      1.000000   48.000000   108.000000   180.000000   38.900000   \n",
              "\n",
              "       Blood Group  Pulse rate(bpm)   RR (breaths/min)    Hb(g/dl)  \\\n",
              "count   541.000000        541.000000        541.000000  541.000000   \n",
              "mean     13.802218         73.247689         19.243993   11.160037   \n",
              "std       1.840812          4.430285          1.688629    0.866904   \n",
              "min      11.000000         13.000000         16.000000    8.500000   \n",
              "25%      13.000000         72.000000         18.000000   10.500000   \n",
              "50%      14.000000         72.000000         18.000000   11.000000   \n",
              "75%      15.000000         74.000000         20.000000   11.700000   \n",
              "max      18.000000         82.000000         28.000000   14.800000   \n",
              "\n",
              "       Cycle(R/I)  ...  Pimples(Y/N)  Fast food (Y/N)  Reg.Exercise(Y/N)  \\\n",
              "count  541.000000  ...    541.000000       541.000000         541.000000   \n",
              "mean     2.560074  ...      0.489834         0.514815           0.247689   \n",
              "std      0.901950  ...      0.500359         0.499780           0.432070   \n",
              "min      2.000000  ...      0.000000         0.000000           0.000000   \n",
              "25%      2.000000  ...      0.000000         0.000000           0.000000   \n",
              "50%      2.000000  ...      0.000000         1.000000           0.000000   \n",
              "75%      4.000000  ...      1.000000         1.000000           0.000000   \n",
              "max      5.000000  ...      1.000000         1.000000           1.000000   \n",
              "\n",
              "       BP _Systolic (mmHg)  BP _Diastolic (mmHg)  Follicle No. (L)  \\\n",
              "count           541.000000            541.000000        541.000000   \n",
              "mean            114.661738             76.927911          6.129390   \n",
              "std               7.384556              5.574112          4.229294   \n",
              "min              12.000000              8.000000          0.000000   \n",
              "25%             110.000000             70.000000          3.000000   \n",
              "50%             110.000000             80.000000          5.000000   \n",
              "75%             120.000000             80.000000          9.000000   \n",
              "max             140.000000            100.000000         22.000000   \n",
              "\n",
              "       Follicle No. (R)  Avg. F size (L) (mm)  Avg. F size (R) (mm)  \\\n",
              "count        541.000000            541.000000            541.000000   \n",
              "mean           6.641405             15.018115             15.451701   \n",
              "std            4.436889              3.566839              3.318848   \n",
              "min            0.000000              0.000000              0.000000   \n",
              "25%            3.000000             13.000000             13.000000   \n",
              "50%            6.000000             15.000000             16.000000   \n",
              "75%           10.000000             18.000000             18.000000   \n",
              "max           20.000000             24.000000             24.000000   \n",
              "\n",
              "       Endometrium (mm)  \n",
              "count        541.000000  \n",
              "mean           8.475915  \n",
              "std            2.165381  \n",
              "min            0.000000  \n",
              "25%            7.000000  \n",
              "50%            8.500000  \n",
              "75%            9.800000  \n",
              "max           18.000000  \n",
              "\n",
              "[8 rows x 42 columns]"
            ],
            "text/html": [
              "\n",
              "\n",
              "  <div id=\"df-a662d886-4c0f-4017-bbde-0c5f961ee8c9\">\n",
              "    <div class=\"colab-df-container\">\n",
              "      <div>\n",
              "<style scoped>\n",
              "    .dataframe tbody tr th:only-of-type {\n",
              "        vertical-align: middle;\n",
              "    }\n",
              "\n",
              "    .dataframe tbody tr th {\n",
              "        vertical-align: top;\n",
              "    }\n",
              "\n",
              "    .dataframe thead th {\n",
              "        text-align: right;\n",
              "    }\n",
              "</style>\n",
              "<table border=\"1\" class=\"dataframe\">\n",
              "  <thead>\n",
              "    <tr style=\"text-align: right;\">\n",
              "      <th></th>\n",
              "      <th>Target</th>\n",
              "      <th>Age (yrs)</th>\n",
              "      <th>Weight (Kg)</th>\n",
              "      <th>Height(Cm)</th>\n",
              "      <th>BMI</th>\n",
              "      <th>Blood Group</th>\n",
              "      <th>Pulse rate(bpm)</th>\n",
              "      <th>RR (breaths/min)</th>\n",
              "      <th>Hb(g/dl)</th>\n",
              "      <th>Cycle(R/I)</th>\n",
              "      <th>...</th>\n",
              "      <th>Pimples(Y/N)</th>\n",
              "      <th>Fast food (Y/N)</th>\n",
              "      <th>Reg.Exercise(Y/N)</th>\n",
              "      <th>BP _Systolic (mmHg)</th>\n",
              "      <th>BP _Diastolic (mmHg)</th>\n",
              "      <th>Follicle No. (L)</th>\n",
              "      <th>Follicle No. (R)</th>\n",
              "      <th>Avg. F size (L) (mm)</th>\n",
              "      <th>Avg. F size (R) (mm)</th>\n",
              "      <th>Endometrium (mm)</th>\n",
              "    </tr>\n",
              "  </thead>\n",
              "  <tbody>\n",
              "    <tr>\n",
              "      <th>count</th>\n",
              "      <td>541.000000</td>\n",
              "      <td>541.000000</td>\n",
              "      <td>541.000000</td>\n",
              "      <td>541.000000</td>\n",
              "      <td>541.000000</td>\n",
              "      <td>541.000000</td>\n",
              "      <td>541.000000</td>\n",
              "      <td>541.000000</td>\n",
              "      <td>541.000000</td>\n",
              "      <td>541.000000</td>\n",
              "      <td>...</td>\n",
              "      <td>541.000000</td>\n",
              "      <td>541.000000</td>\n",
              "      <td>541.000000</td>\n",
              "      <td>541.000000</td>\n",
              "      <td>541.000000</td>\n",
              "      <td>541.000000</td>\n",
              "      <td>541.000000</td>\n",
              "      <td>541.000000</td>\n",
              "      <td>541.000000</td>\n",
              "      <td>541.000000</td>\n",
              "    </tr>\n",
              "    <tr>\n",
              "      <th>mean</th>\n",
              "      <td>0.327172</td>\n",
              "      <td>31.430684</td>\n",
              "      <td>59.637153</td>\n",
              "      <td>156.484835</td>\n",
              "      <td>24.307579</td>\n",
              "      <td>13.802218</td>\n",
              "      <td>73.247689</td>\n",
              "      <td>19.243993</td>\n",
              "      <td>11.160037</td>\n",
              "      <td>2.560074</td>\n",
              "      <td>...</td>\n",
              "      <td>0.489834</td>\n",
              "      <td>0.514815</td>\n",
              "      <td>0.247689</td>\n",
              "      <td>114.661738</td>\n",
              "      <td>76.927911</td>\n",
              "      <td>6.129390</td>\n",
              "      <td>6.641405</td>\n",
              "      <td>15.018115</td>\n",
              "      <td>15.451701</td>\n",
              "      <td>8.475915</td>\n",
              "    </tr>\n",
              "    <tr>\n",
              "      <th>std</th>\n",
              "      <td>0.469615</td>\n",
              "      <td>5.411006</td>\n",
              "      <td>11.028287</td>\n",
              "      <td>6.033545</td>\n",
              "      <td>4.055129</td>\n",
              "      <td>1.840812</td>\n",
              "      <td>4.430285</td>\n",
              "      <td>1.688629</td>\n",
              "      <td>0.866904</td>\n",
              "      <td>0.901950</td>\n",
              "      <td>...</td>\n",
              "      <td>0.500359</td>\n",
              "      <td>0.499780</td>\n",
              "      <td>0.432070</td>\n",
              "      <td>7.384556</td>\n",
              "      <td>5.574112</td>\n",
              "      <td>4.229294</td>\n",
              "      <td>4.436889</td>\n",
              "      <td>3.566839</td>\n",
              "      <td>3.318848</td>\n",
              "      <td>2.165381</td>\n",
              "    </tr>\n",
              "    <tr>\n",
              "      <th>min</th>\n",
              "      <td>0.000000</td>\n",
              "      <td>20.000000</td>\n",
              "      <td>31.000000</td>\n",
              "      <td>137.000000</td>\n",
              "      <td>12.400000</td>\n",
              "      <td>11.000000</td>\n",
              "      <td>13.000000</td>\n",
              "      <td>16.000000</td>\n",
              "      <td>8.500000</td>\n",
              "      <td>2.000000</td>\n",
              "      <td>...</td>\n",
              "      <td>0.000000</td>\n",
              "      <td>0.000000</td>\n",
              "      <td>0.000000</td>\n",
              "      <td>12.000000</td>\n",
              "      <td>8.000000</td>\n",
              "      <td>0.000000</td>\n",
              "      <td>0.000000</td>\n",
              "      <td>0.000000</td>\n",
              "      <td>0.000000</td>\n",
              "      <td>0.000000</td>\n",
              "    </tr>\n",
              "    <tr>\n",
              "      <th>25%</th>\n",
              "      <td>0.000000</td>\n",
              "      <td>28.000000</td>\n",
              "      <td>52.000000</td>\n",
              "      <td>152.000000</td>\n",
              "      <td>21.600000</td>\n",
              "      <td>13.000000</td>\n",
              "      <td>72.000000</td>\n",
              "      <td>18.000000</td>\n",
              "      <td>10.500000</td>\n",
              "      <td>2.000000</td>\n",
              "      <td>...</td>\n",
              "      <td>0.000000</td>\n",
              "      <td>0.000000</td>\n",
              "      <td>0.000000</td>\n",
              "      <td>110.000000</td>\n",
              "      <td>70.000000</td>\n",
              "      <td>3.000000</td>\n",
              "      <td>3.000000</td>\n",
              "      <td>13.000000</td>\n",
              "      <td>13.000000</td>\n",
              "      <td>7.000000</td>\n",
              "    </tr>\n",
              "    <tr>\n",
              "      <th>50%</th>\n",
              "      <td>0.000000</td>\n",
              "      <td>31.000000</td>\n",
              "      <td>59.000000</td>\n",
              "      <td>156.000000</td>\n",
              "      <td>24.200000</td>\n",
              "      <td>14.000000</td>\n",
              "      <td>72.000000</td>\n",
              "      <td>18.000000</td>\n",
              "      <td>11.000000</td>\n",
              "      <td>2.000000</td>\n",
              "      <td>...</td>\n",
              "      <td>0.000000</td>\n",
              "      <td>1.000000</td>\n",
              "      <td>0.000000</td>\n",
              "      <td>110.000000</td>\n",
              "      <td>80.000000</td>\n",
              "      <td>5.000000</td>\n",
              "      <td>6.000000</td>\n",
              "      <td>15.000000</td>\n",
              "      <td>16.000000</td>\n",
              "      <td>8.500000</td>\n",
              "    </tr>\n",
              "    <tr>\n",
              "      <th>75%</th>\n",
              "      <td>1.000000</td>\n",
              "      <td>35.000000</td>\n",
              "      <td>65.000000</td>\n",
              "      <td>160.000000</td>\n",
              "      <td>26.600000</td>\n",
              "      <td>15.000000</td>\n",
              "      <td>74.000000</td>\n",
              "      <td>20.000000</td>\n",
              "      <td>11.700000</td>\n",
              "      <td>4.000000</td>\n",
              "      <td>...</td>\n",
              "      <td>1.000000</td>\n",
              "      <td>1.000000</td>\n",
              "      <td>0.000000</td>\n",
              "      <td>120.000000</td>\n",
              "      <td>80.000000</td>\n",
              "      <td>9.000000</td>\n",
              "      <td>10.000000</td>\n",
              "      <td>18.000000</td>\n",
              "      <td>18.000000</td>\n",
              "      <td>9.800000</td>\n",
              "    </tr>\n",
              "    <tr>\n",
              "      <th>max</th>\n",
              "      <td>1.000000</td>\n",
              "      <td>48.000000</td>\n",
              "      <td>108.000000</td>\n",
              "      <td>180.000000</td>\n",
              "      <td>38.900000</td>\n",
              "      <td>18.000000</td>\n",
              "      <td>82.000000</td>\n",
              "      <td>28.000000</td>\n",
              "      <td>14.800000</td>\n",
              "      <td>5.000000</td>\n",
              "      <td>...</td>\n",
              "      <td>1.000000</td>\n",
              "      <td>1.000000</td>\n",
              "      <td>1.000000</td>\n",
              "      <td>140.000000</td>\n",
              "      <td>100.000000</td>\n",
              "      <td>22.000000</td>\n",
              "      <td>20.000000</td>\n",
              "      <td>24.000000</td>\n",
              "      <td>24.000000</td>\n",
              "      <td>18.000000</td>\n",
              "    </tr>\n",
              "  </tbody>\n",
              "</table>\n",
              "<p>8 rows × 42 columns</p>\n",
              "</div>\n",
              "      <button class=\"colab-df-convert\" onclick=\"convertToInteractive('df-a662d886-4c0f-4017-bbde-0c5f961ee8c9')\"\n",
              "              title=\"Convert this dataframe to an interactive table.\"\n",
              "              style=\"display:none;\">\n",
              "\n",
              "  <svg xmlns=\"http://www.w3.org/2000/svg\" height=\"24px\"viewBox=\"0 0 24 24\"\n",
              "       width=\"24px\">\n",
              "    <path d=\"M0 0h24v24H0V0z\" fill=\"none\"/>\n",
              "    <path d=\"M18.56 5.44l.94 2.06.94-2.06 2.06-.94-2.06-.94-.94-2.06-.94 2.06-2.06.94zm-11 1L8.5 8.5l.94-2.06 2.06-.94-2.06-.94L8.5 2.5l-.94 2.06-2.06.94zm10 10l.94 2.06.94-2.06 2.06-.94-2.06-.94-.94-2.06-.94 2.06-2.06.94z\"/><path d=\"M17.41 7.96l-1.37-1.37c-.4-.4-.92-.59-1.43-.59-.52 0-1.04.2-1.43.59L10.3 9.45l-7.72 7.72c-.78.78-.78 2.05 0 2.83L4 21.41c.39.39.9.59 1.41.59.51 0 1.02-.2 1.41-.59l7.78-7.78 2.81-2.81c.8-.78.8-2.07 0-2.86zM5.41 20L4 18.59l7.72-7.72 1.47 1.35L5.41 20z\"/>\n",
              "  </svg>\n",
              "      </button>\n",
              "\n",
              "\n",
              "\n",
              "    <div id=\"df-79601a45-1cd8-4e60-8a40-06ba6f0dcb3d\">\n",
              "      <button class=\"colab-df-quickchart\" onclick=\"quickchart('df-79601a45-1cd8-4e60-8a40-06ba6f0dcb3d')\"\n",
              "              title=\"Suggest charts.\"\n",
              "              style=\"display:none;\">\n",
              "\n",
              "<svg xmlns=\"http://www.w3.org/2000/svg\" height=\"24px\"viewBox=\"0 0 24 24\"\n",
              "     width=\"24px\">\n",
              "    <g>\n",
              "        <path d=\"M19 3H5c-1.1 0-2 .9-2 2v14c0 1.1.9 2 2 2h14c1.1 0 2-.9 2-2V5c0-1.1-.9-2-2-2zM9 17H7v-7h2v7zm4 0h-2V7h2v10zm4 0h-2v-4h2v4z\"/>\n",
              "    </g>\n",
              "</svg>\n",
              "      </button>\n",
              "    </div>\n",
              "\n",
              "<style>\n",
              "  .colab-df-quickchart {\n",
              "    background-color: #E8F0FE;\n",
              "    border: none;\n",
              "    border-radius: 50%;\n",
              "    cursor: pointer;\n",
              "    display: none;\n",
              "    fill: #1967D2;\n",
              "    height: 32px;\n",
              "    padding: 0 0 0 0;\n",
              "    width: 32px;\n",
              "  }\n",
              "\n",
              "  .colab-df-quickchart:hover {\n",
              "    background-color: #E2EBFA;\n",
              "    box-shadow: 0px 1px 2px rgba(60, 64, 67, 0.3), 0px 1px 3px 1px rgba(60, 64, 67, 0.15);\n",
              "    fill: #174EA6;\n",
              "  }\n",
              "\n",
              "  [theme=dark] .colab-df-quickchart {\n",
              "    background-color: #3B4455;\n",
              "    fill: #D2E3FC;\n",
              "  }\n",
              "\n",
              "  [theme=dark] .colab-df-quickchart:hover {\n",
              "    background-color: #434B5C;\n",
              "    box-shadow: 0px 1px 3px 1px rgba(0, 0, 0, 0.15);\n",
              "    filter: drop-shadow(0px 1px 2px rgba(0, 0, 0, 0.3));\n",
              "    fill: #FFFFFF;\n",
              "  }\n",
              "</style>\n",
              "\n",
              "    <script>\n",
              "      async function quickchart(key) {\n",
              "        const containerElement = document.querySelector('#' + key);\n",
              "        const charts = await google.colab.kernel.invokeFunction(\n",
              "            'suggestCharts', [key], {});\n",
              "      }\n",
              "    </script>\n",
              "\n",
              "      <script>\n",
              "\n",
              "function displayQuickchartButton(domScope) {\n",
              "  let quickchartButtonEl =\n",
              "    domScope.querySelector('#df-79601a45-1cd8-4e60-8a40-06ba6f0dcb3d button.colab-df-quickchart');\n",
              "  quickchartButtonEl.style.display =\n",
              "    google.colab.kernel.accessAllowed ? 'block' : 'none';\n",
              "}\n",
              "\n",
              "        displayQuickchartButton(document);\n",
              "      </script>\n",
              "      <style>\n",
              "    .colab-df-container {\n",
              "      display:flex;\n",
              "      flex-wrap:wrap;\n",
              "      gap: 12px;\n",
              "    }\n",
              "\n",
              "    .colab-df-convert {\n",
              "      background-color: #E8F0FE;\n",
              "      border: none;\n",
              "      border-radius: 50%;\n",
              "      cursor: pointer;\n",
              "      display: none;\n",
              "      fill: #1967D2;\n",
              "      height: 32px;\n",
              "      padding: 0 0 0 0;\n",
              "      width: 32px;\n",
              "    }\n",
              "\n",
              "    .colab-df-convert:hover {\n",
              "      background-color: #E2EBFA;\n",
              "      box-shadow: 0px 1px 2px rgba(60, 64, 67, 0.3), 0px 1px 3px 1px rgba(60, 64, 67, 0.15);\n",
              "      fill: #174EA6;\n",
              "    }\n",
              "\n",
              "    [theme=dark] .colab-df-convert {\n",
              "      background-color: #3B4455;\n",
              "      fill: #D2E3FC;\n",
              "    }\n",
              "\n",
              "    [theme=dark] .colab-df-convert:hover {\n",
              "      background-color: #434B5C;\n",
              "      box-shadow: 0px 1px 3px 1px rgba(0, 0, 0, 0.15);\n",
              "      filter: drop-shadow(0px 1px 2px rgba(0, 0, 0, 0.3));\n",
              "      fill: #FFFFFF;\n",
              "    }\n",
              "  </style>\n",
              "\n",
              "      <script>\n",
              "        const buttonEl =\n",
              "          document.querySelector('#df-a662d886-4c0f-4017-bbde-0c5f961ee8c9 button.colab-df-convert');\n",
              "        buttonEl.style.display =\n",
              "          google.colab.kernel.accessAllowed ? 'block' : 'none';\n",
              "\n",
              "        async function convertToInteractive(key) {\n",
              "          const element = document.querySelector('#df-a662d886-4c0f-4017-bbde-0c5f961ee8c9');\n",
              "          const dataTable =\n",
              "            await google.colab.kernel.invokeFunction('convertToInteractive',\n",
              "                                                     [key], {});\n",
              "          if (!dataTable) return;\n",
              "\n",
              "          const docLinkHtml = 'Like what you see? Visit the ' +\n",
              "            '<a target=\"_blank\" href=https://colab.research.google.com/notebooks/data_table.ipynb>data table notebook</a>'\n",
              "            + ' to learn more about interactive tables.';\n",
              "          element.innerHTML = '';\n",
              "          dataTable['output_type'] = 'display_data';\n",
              "          await google.colab.output.renderOutput(dataTable, element);\n",
              "          const docLink = document.createElement('div');\n",
              "          docLink.innerHTML = docLinkHtml;\n",
              "          element.appendChild(docLink);\n",
              "        }\n",
              "      </script>\n",
              "    </div>\n",
              "  </div>\n"
            ]
          },
          "metadata": {},
          "execution_count": 26
        }
      ]
    },
    {
      "cell_type": "code",
      "source": [
        "# checking again if any null value is present\n",
        "data.isnull().sum()\n",
        "data = data.dropna()\n",
        "data.isnull().sum()"
      ],
      "metadata": {
        "execution": {
          "iopub.status.busy": "2022-07-18T11:32:23.366522Z",
          "iopub.execute_input": "2022-07-18T11:32:23.366939Z",
          "iopub.status.idle": "2022-07-18T11:32:23.381712Z",
          "shell.execute_reply.started": "2022-07-18T11:32:23.366899Z",
          "shell.execute_reply": "2022-07-18T11:32:23.381012Z"
        },
        "trusted": true,
        "colab": {
          "base_uri": "https://localhost:8080/"
        },
        "id": "qo8KfyWE94UN",
        "outputId": "4e3045ad-3b7f-45e2-d954-b4fc73299416"
      },
      "execution_count": 27,
      "outputs": [
        {
          "output_type": "execute_result",
          "data": {
            "text/plain": [
              "Target                    0\n",
              " Age (yrs)                0\n",
              "Weight (Kg)               0\n",
              "Height(Cm)                0\n",
              "BMI                       0\n",
              "Blood Group               0\n",
              "Pulse rate(bpm)           0\n",
              "RR (breaths/min)          0\n",
              "Hb(g/dl)                  0\n",
              "Cycle(R/I)                0\n",
              "Cycle length(days)        0\n",
              "Marraige Status (Yrs)     0\n",
              "Pregnant(Y/N)             0\n",
              "No. of abortions          0\n",
              "  I   beta-HCG(mIU/mL)    0\n",
              "II    beta-HCG(mIU/mL)    0\n",
              "FSH(mIU/mL)               0\n",
              "LH(mIU/mL)                0\n",
              "FSH/LH                    0\n",
              "Hip(inch)                 0\n",
              "Waist(inch)               0\n",
              "Waist:Hip Ratio           0\n",
              "TSH (mIU/L)               0\n",
              "AMH(ng/mL)                0\n",
              "PRL(ng/mL)                0\n",
              "Vit D3 (ng/mL)            0\n",
              "PRG(ng/mL)                0\n",
              "RBS(mg/dl)                0\n",
              "Weight gain(Y/N)          0\n",
              "hair growth(Y/N)          0\n",
              "Skin darkening (Y/N)      0\n",
              "Hair loss(Y/N)            0\n",
              "Pimples(Y/N)              0\n",
              "Fast food (Y/N)           0\n",
              "Reg.Exercise(Y/N)         0\n",
              "BP _Systolic (mmHg)       0\n",
              "BP _Diastolic (mmHg)      0\n",
              "Follicle No. (L)          0\n",
              "Follicle No. (R)          0\n",
              "Avg. F size (L) (mm)      0\n",
              "Avg. F size (R) (mm)      0\n",
              "Endometrium (mm)          0\n",
              "dtype: int64"
            ]
          },
          "metadata": {},
          "execution_count": 27
        }
      ]
    },
    {
      "cell_type": "code",
      "source": [
        "# drop the target column for training and use it for testing\n",
        "\n",
        "X= data.drop(labels = [\"Target\"],axis = 1)\n",
        "y=data.Target"
      ],
      "metadata": {
        "execution": {
          "iopub.status.busy": "2022-07-18T11:32:23.38279Z",
          "iopub.execute_input": "2022-07-18T11:32:23.383436Z",
          "iopub.status.idle": "2022-07-18T11:32:23.388499Z",
          "shell.execute_reply.started": "2022-07-18T11:32:23.383405Z",
          "shell.execute_reply": "2022-07-18T11:32:23.387829Z"
        },
        "trusted": true,
        "id": "Y-TwxApA94UN"
      },
      "execution_count": 28,
      "outputs": []
    },
    {
      "cell_type": "code",
      "source": [
        "data.shape"
      ],
      "metadata": {
        "colab": {
          "base_uri": "https://localhost:8080/"
        },
        "id": "AMkZqAKPOIik",
        "outputId": "c121fa67-45da-4c4b-b136-eb890cbe965a"
      },
      "execution_count": 29,
      "outputs": [
        {
          "output_type": "execute_result",
          "data": {
            "text/plain": [
              "(539, 42)"
            ]
          },
          "metadata": {},
          "execution_count": 29
        }
      ]
    },
    {
      "cell_type": "code",
      "source": [
        "#normalizing the values of X training set\n",
        "from sklearn import preprocessing\n",
        "X = preprocessing.StandardScaler().fit(X).transform(X)\n",
        "X[0:5]"
      ],
      "metadata": {
        "execution": {
          "iopub.status.busy": "2022-07-18T11:32:23.389531Z",
          "iopub.execute_input": "2022-07-18T11:32:23.389953Z",
          "iopub.status.idle": "2022-07-18T11:32:23.408837Z",
          "shell.execute_reply.started": "2022-07-18T11:32:23.389926Z",
          "shell.execute_reply": "2022-07-18T11:32:23.407486Z"
        },
        "trusted": true,
        "colab": {
          "base_uri": "https://localhost:8080/"
        },
        "id": "tebvgloi94UN",
        "outputId": "3f7628da-ad3f-4e45-ed62-a09207f10890"
      },
      "execution_count": 30,
      "outputs": [
        {
          "output_type": "execute_result",
          "data": {
            "text/plain": [
              "array([[-6.36471065e-01, -1.37033413e+00, -7.47184945e-01,\n",
              "        -1.23972125e+00,  6.50846677e-01,  1.07238062e+00,\n",
              "         1.63117295e+00, -7.83738301e-01, -6.23132376e-01,\n",
              "         3.97544055e-02, -1.43627611e-01, -7.86523120e-01,\n",
              "        -4.17644113e-01, -1.98384225e-01, -1.47715233e-01,\n",
              "        -3.08040974e-02, -3.23183666e-02, -7.82469442e-02,\n",
              "        -5.01532599e-01, -1.06655324e+00, -1.33865625e+00,\n",
              "        -6.13356582e-01, -6.03082016e-01,  1.39012404e+00,\n",
              "        -9.49017840e-02, -1.07360670e-02, -4.22651689e-01,\n",
              "        -7.77281588e-01, -6.12372436e-01, -6.64211164e-01,\n",
              "        -9.09460634e-01, -9.79795897e-01,  9.71591497e-01,\n",
              "        -5.69494797e-01, -6.35672535e-01,  5.47591614e-01,\n",
              "        -7.39230786e-01, -8.19646157e-01,  8.38592961e-01,\n",
              "         7.68460944e-01,  1.21541619e-02],\n",
              "       [ 8.45420529e-01,  4.83392474e-01,  8.28389248e-01,\n",
              "         1.43275616e-01,  6.50846677e-01,  1.70292201e-01,\n",
              "         4.47062216e-01,  6.22994508e-01, -6.23132376e-01,\n",
              "         3.97544055e-02,  6.90182388e-01,  1.27141844e+00,\n",
              "        -4.17644113e-01, -1.80838408e-01, -1.47715233e-01,\n",
              "        -3.64204630e-02, -6.21731732e-02, -1.22362017e-02,\n",
              "         4.22244471e-03, -5.10315026e-01, -1.12152242e+00,\n",
              "         5.39427591e-02, -6.95393351e-01, -2.86938124e-01,\n",
              "         3.26501977e-02,  9.41864684e-02, -4.22651689e-01,\n",
              "        -7.77281588e-01, -6.12372436e-01, -6.64211164e-01,\n",
              "        -9.09460634e-01, -9.79795897e-01, -1.03115224e+00,\n",
              "        -5.69494797e-01,  7.22882169e-01, -1.24992288e+00,\n",
              "        -7.39230786e-01, -3.68380295e-01, -2.49674123e-03,\n",
              "        -4.35933984e-01, -2.21327029e+00],\n",
              "       [ 2.89711181e-01,  8.28694488e-01,  1.40886395e+00,\n",
              "         2.42061106e-01, -1.52132892e+00, -2.80752008e-01,\n",
              "        -7.37048517e-01,  7.38300476e-01, -6.23132376e-01,\n",
              "         3.97544055e-02,  4.81729888e-01,  1.27141844e+00,\n",
              "        -4.17644113e-01, -5.15704038e-02,  1.58835520e-01,\n",
              "        -4.18987212e-02, -6.45938332e-02, -1.00962026e-02,\n",
              "         5.09977489e-01,  6.02161411e-01,  1.81280564e-01,\n",
              "        -1.12882076e-01,  1.76435932e-01, -9.27124996e-01,\n",
              "        -8.24982990e-04, -6.58203981e-02, -8.53374436e-01,\n",
              "        -7.77281588e-01, -6.12372436e-01, -6.64211164e-01,\n",
              "         1.09955282e+00,  1.02062073e+00,  9.71591497e-01,\n",
              "        -5.69494797e-01,  7.22882169e-01,  5.47591614e-01,\n",
              "         1.62543030e+00,  1.88794901e+00,  8.38592961e-01,\n",
              "         1.37065841e+00,  7.07599304e-01],\n",
              "       [ 1.03065698e+00,  4.83392474e-01, -1.41058460e+00,\n",
              "         1.32870150e+00, -4.35241122e-01, -2.80752008e-01,\n",
              "         4.47062216e-01,  9.68912412e-01, -6.23132376e-01,\n",
              "         3.97544055e-02, -7.68985111e-01, -7.86523120e-01,\n",
              "        -4.17644113e-01, -1.98384225e-01, -1.47715233e-01,\n",
              "        -3.02977037e-02, -4.75339437e-02, -5.75054142e-02,\n",
              "         1.01573253e+00,  6.02161411e-01, -6.87254761e-01,\n",
              "         3.61915093e+00, -7.48386896e-01,  8.37569849e-01,\n",
              "        -4.78633835e-02, -6.58203981e-02, -1.28409718e+00,\n",
              "        -7.77281588e-01, -6.12372436e-01, -6.64211164e-01,\n",
              "        -9.09460634e-01, -9.79795897e-01, -1.03115224e+00,\n",
              "        -5.69494797e-01,  7.22882169e-01, -1.24992288e+00,\n",
              "        -9.75696895e-01, -1.04527909e+00, -2.49674123e-03,\n",
              "        -4.35933984e-01, -4.51475933e-01],\n",
              "       [-1.19218041e+00, -6.97903890e-01,  7.45464290e-01,\n",
              "        -1.04215027e+00, -1.52132892e+00, -2.80752008e-01,\n",
              "        -7.37048517e-01, -1.33720695e+00, -6.23132376e-01,\n",
              "         3.97544055e-02, -1.39434261e+00,  1.27141844e+00,\n",
              "        -4.17644113e-01,  4.01326673e-02,  3.50313716e-01,\n",
              "        -4.90803035e-02, -6.43632942e-02, -4.10438824e-02,\n",
              "        -2.48655077e-01, -1.06655324e+00, -1.77292392e+00,\n",
              "         1.64262408e-01, -5.70602101e-01,  3.82013674e-01,\n",
              "        -1.78511525e-02, -6.05742714e-02, -8.53374436e-01,\n",
              "        -7.77281588e-01, -6.12372436e-01, -6.64211164e-01,\n",
              "         1.09955282e+00, -9.79795897e-01, -1.03115224e+00,\n",
              "        -5.69494797e-01,  7.22882169e-01,  5.47591614e-01,\n",
              "        -7.39230786e-01, -5.94013226e-01,  2.77866493e-01,\n",
              "        -4.35933984e-01, -6.83290980e-01]])"
            ]
          },
          "metadata": {},
          "execution_count": 30
        }
      ]
    },
    {
      "cell_type": "code",
      "source": [
        "# Splitting the dataset into train and test sets with 70/30 ratio\n",
        "X_train,X_test, y_train, y_test = train_test_split(X,y, test_size=0.3)"
      ],
      "metadata": {
        "execution": {
          "iopub.status.busy": "2022-07-18T11:32:23.410647Z",
          "iopub.execute_input": "2022-07-18T11:32:23.411181Z",
          "iopub.status.idle": "2022-07-18T11:32:23.417528Z",
          "shell.execute_reply.started": "2022-07-18T11:32:23.411137Z",
          "shell.execute_reply": "2022-07-18T11:32:23.416546Z"
        },
        "trusted": true,
        "id": "QjRvazNi94UN"
      },
      "execution_count": 31,
      "outputs": []
    },
    {
      "cell_type": "code",
      "source": [
        "print ('Train set:', X_train.shape,  y_train.shape)\n",
        "print ('Test set:', X_test.shape,  y_test.shape)"
      ],
      "metadata": {
        "execution": {
          "iopub.status.busy": "2022-07-18T11:32:23.420681Z",
          "iopub.execute_input": "2022-07-18T11:32:23.421106Z",
          "iopub.status.idle": "2022-07-18T11:32:23.42844Z",
          "shell.execute_reply.started": "2022-07-18T11:32:23.42107Z",
          "shell.execute_reply": "2022-07-18T11:32:23.427584Z"
        },
        "trusted": true,
        "colab": {
          "base_uri": "https://localhost:8080/"
        },
        "id": "uMfBm71N94UN",
        "outputId": "68c0525c-fe2c-4a9d-f141-06d45b8f3c9b"
      },
      "execution_count": 32,
      "outputs": [
        {
          "output_type": "stream",
          "name": "stdout",
          "text": [
            "Train set: (377, 41) (377,)\n",
            "Test set: (162, 41) (162,)\n"
          ]
        }
      ]
    },
    {
      "cell_type": "code",
      "source": [
        "# perform Logistic Regression\n",
        "LR = LogisticRegression(C=0.01, solver='liblinear').fit(X_train,y_train)\n",
        "LR"
      ],
      "metadata": {
        "execution": {
          "iopub.status.busy": "2022-07-18T11:32:23.429563Z",
          "iopub.execute_input": "2022-07-18T11:32:23.429921Z",
          "iopub.status.idle": "2022-07-18T11:32:23.445374Z",
          "shell.execute_reply.started": "2022-07-18T11:32:23.429894Z",
          "shell.execute_reply": "2022-07-18T11:32:23.444277Z"
        },
        "trusted": true,
        "colab": {
          "base_uri": "https://localhost:8080/",
          "height": 74
        },
        "id": "RPGLaq9E94UN",
        "outputId": "cb1d46dd-6881-4cee-bcd4-c64b2f0dd287"
      },
      "execution_count": 33,
      "outputs": [
        {
          "output_type": "execute_result",
          "data": {
            "text/plain": [
              "LogisticRegression(C=0.01, solver='liblinear')"
            ],
            "text/html": [
              "<style>#sk-container-id-1 {color: black;background-color: white;}#sk-container-id-1 pre{padding: 0;}#sk-container-id-1 div.sk-toggleable {background-color: white;}#sk-container-id-1 label.sk-toggleable__label {cursor: pointer;display: block;width: 100%;margin-bottom: 0;padding: 0.3em;box-sizing: border-box;text-align: center;}#sk-container-id-1 label.sk-toggleable__label-arrow:before {content: \"▸\";float: left;margin-right: 0.25em;color: #696969;}#sk-container-id-1 label.sk-toggleable__label-arrow:hover:before {color: black;}#sk-container-id-1 div.sk-estimator:hover label.sk-toggleable__label-arrow:before {color: black;}#sk-container-id-1 div.sk-toggleable__content {max-height: 0;max-width: 0;overflow: hidden;text-align: left;background-color: #f0f8ff;}#sk-container-id-1 div.sk-toggleable__content pre {margin: 0.2em;color: black;border-radius: 0.25em;background-color: #f0f8ff;}#sk-container-id-1 input.sk-toggleable__control:checked~div.sk-toggleable__content {max-height: 200px;max-width: 100%;overflow: auto;}#sk-container-id-1 input.sk-toggleable__control:checked~label.sk-toggleable__label-arrow:before {content: \"▾\";}#sk-container-id-1 div.sk-estimator input.sk-toggleable__control:checked~label.sk-toggleable__label {background-color: #d4ebff;}#sk-container-id-1 div.sk-label input.sk-toggleable__control:checked~label.sk-toggleable__label {background-color: #d4ebff;}#sk-container-id-1 input.sk-hidden--visually {border: 0;clip: rect(1px 1px 1px 1px);clip: rect(1px, 1px, 1px, 1px);height: 1px;margin: -1px;overflow: hidden;padding: 0;position: absolute;width: 1px;}#sk-container-id-1 div.sk-estimator {font-family: monospace;background-color: #f0f8ff;border: 1px dotted black;border-radius: 0.25em;box-sizing: border-box;margin-bottom: 0.5em;}#sk-container-id-1 div.sk-estimator:hover {background-color: #d4ebff;}#sk-container-id-1 div.sk-parallel-item::after {content: \"\";width: 100%;border-bottom: 1px solid gray;flex-grow: 1;}#sk-container-id-1 div.sk-label:hover label.sk-toggleable__label {background-color: #d4ebff;}#sk-container-id-1 div.sk-serial::before {content: \"\";position: absolute;border-left: 1px solid gray;box-sizing: border-box;top: 0;bottom: 0;left: 50%;z-index: 0;}#sk-container-id-1 div.sk-serial {display: flex;flex-direction: column;align-items: center;background-color: white;padding-right: 0.2em;padding-left: 0.2em;position: relative;}#sk-container-id-1 div.sk-item {position: relative;z-index: 1;}#sk-container-id-1 div.sk-parallel {display: flex;align-items: stretch;justify-content: center;background-color: white;position: relative;}#sk-container-id-1 div.sk-item::before, #sk-container-id-1 div.sk-parallel-item::before {content: \"\";position: absolute;border-left: 1px solid gray;box-sizing: border-box;top: 0;bottom: 0;left: 50%;z-index: -1;}#sk-container-id-1 div.sk-parallel-item {display: flex;flex-direction: column;z-index: 1;position: relative;background-color: white;}#sk-container-id-1 div.sk-parallel-item:first-child::after {align-self: flex-end;width: 50%;}#sk-container-id-1 div.sk-parallel-item:last-child::after {align-self: flex-start;width: 50%;}#sk-container-id-1 div.sk-parallel-item:only-child::after {width: 0;}#sk-container-id-1 div.sk-dashed-wrapped {border: 1px dashed gray;margin: 0 0.4em 0.5em 0.4em;box-sizing: border-box;padding-bottom: 0.4em;background-color: white;}#sk-container-id-1 div.sk-label label {font-family: monospace;font-weight: bold;display: inline-block;line-height: 1.2em;}#sk-container-id-1 div.sk-label-container {text-align: center;}#sk-container-id-1 div.sk-container {/* jupyter's `normalize.less` sets `[hidden] { display: none; }` but bootstrap.min.css set `[hidden] { display: none !important; }` so we also need the `!important` here to be able to override the default hidden behavior on the sphinx rendered scikit-learn.org. See: https://github.com/scikit-learn/scikit-learn/issues/21755 */display: inline-block !important;position: relative;}#sk-container-id-1 div.sk-text-repr-fallback {display: none;}</style><div id=\"sk-container-id-1\" class=\"sk-top-container\"><div class=\"sk-text-repr-fallback\"><pre>LogisticRegression(C=0.01, solver=&#x27;liblinear&#x27;)</pre><b>In a Jupyter environment, please rerun this cell to show the HTML representation or trust the notebook. <br />On GitHub, the HTML representation is unable to render, please try loading this page with nbviewer.org.</b></div><div class=\"sk-container\" hidden><div class=\"sk-item\"><div class=\"sk-estimator sk-toggleable\"><input class=\"sk-toggleable__control sk-hidden--visually\" id=\"sk-estimator-id-1\" type=\"checkbox\" checked><label for=\"sk-estimator-id-1\" class=\"sk-toggleable__label sk-toggleable__label-arrow\">LogisticRegression</label><div class=\"sk-toggleable__content\"><pre>LogisticRegression(C=0.01, solver=&#x27;liblinear&#x27;)</pre></div></div></div></div></div>"
            ]
          },
          "metadata": {},
          "execution_count": 33
        }
      ]
    },
    {
      "cell_type": "code",
      "source": [
        "yhat = LR.predict(X_test)\n",
        "yhat"
      ],
      "metadata": {
        "execution": {
          "iopub.status.busy": "2022-07-18T11:32:23.462611Z",
          "iopub.execute_input": "2022-07-18T11:32:23.463152Z",
          "iopub.status.idle": "2022-07-18T11:32:23.482114Z",
          "shell.execute_reply.started": "2022-07-18T11:32:23.463122Z",
          "shell.execute_reply": "2022-07-18T11:32:23.480874Z"
        },
        "trusted": true,
        "colab": {
          "base_uri": "https://localhost:8080/"
        },
        "id": "5edhuPUR94UN",
        "outputId": "5b28bf6d-d9b1-4cfa-ce38-f21378b5a478"
      },
      "execution_count": 34,
      "outputs": [
        {
          "output_type": "execute_result",
          "data": {
            "text/plain": [
              "array([1, 1, 1, 1, 0, 1, 0, 0, 0, 0, 0, 0, 0, 0, 0, 0, 0, 1, 1, 0, 0, 0,\n",
              "       1, 1, 1, 1, 0, 1, 0, 0, 1, 1, 1, 1, 0, 1, 0, 0, 0, 1, 0, 0, 0, 1,\n",
              "       0, 0, 1, 0, 0, 0, 0, 0, 0, 0, 1, 0, 0, 1, 0, 0, 0, 0, 0, 1, 0, 0,\n",
              "       0, 0, 1, 1, 1, 0, 1, 1, 0, 0, 1, 1, 0, 1, 0, 0, 0, 0, 1, 0, 0, 0,\n",
              "       0, 0, 0, 1, 0, 0, 1, 0, 0, 0, 0, 0, 0, 0, 1, 0, 0, 0, 1, 0, 0, 1,\n",
              "       0, 0, 0, 0, 0, 1, 0, 0, 0, 1, 1, 0, 1, 0, 1, 1, 0, 0, 1, 0, 0, 0,\n",
              "       0, 0, 0, 0, 0, 0, 1, 0, 0, 0, 1, 0, 0, 0, 0, 0, 1, 0, 1, 1, 0, 0,\n",
              "       0, 0, 0, 0, 1, 0, 0, 0])"
            ]
          },
          "metadata": {},
          "execution_count": 34
        }
      ]
    },
    {
      "cell_type": "code",
      "source": [
        "yhat_prob = LR.predict_proba(X_test)\n",
        "yhat_prob"
      ],
      "metadata": {
        "execution": {
          "iopub.status.busy": "2022-07-18T11:32:23.48343Z",
          "iopub.execute_input": "2022-07-18T11:32:23.484361Z",
          "iopub.status.idle": "2022-07-18T11:32:23.497246Z",
          "shell.execute_reply.started": "2022-07-18T11:32:23.484307Z",
          "shell.execute_reply": "2022-07-18T11:32:23.496507Z"
        },
        "trusted": true,
        "colab": {
          "base_uri": "https://localhost:8080/"
        },
        "id": "gFNZRh7P94UN",
        "outputId": "faf17c79-7a30-487b-a2aa-dc87813dd1e5"
      },
      "execution_count": 35,
      "outputs": [
        {
          "output_type": "execute_result",
          "data": {
            "text/plain": [
              "array([[0.14803222, 0.85196778],\n",
              "       [0.41595101, 0.58404899],\n",
              "       [0.39951208, 0.60048792],\n",
              "       [0.11003242, 0.88996758],\n",
              "       [0.71488775, 0.28511225],\n",
              "       [0.09919503, 0.90080497],\n",
              "       [0.9164585 , 0.0835415 ],\n",
              "       [0.70473142, 0.29526858],\n",
              "       [0.64293499, 0.35706501],\n",
              "       [0.81949581, 0.18050419],\n",
              "       [0.76499734, 0.23500266],\n",
              "       [0.55022002, 0.44977998],\n",
              "       [0.9075962 , 0.0924038 ],\n",
              "       [0.77376765, 0.22623235],\n",
              "       [0.8549063 , 0.1450937 ],\n",
              "       [0.87820498, 0.12179502],\n",
              "       [0.90554416, 0.09445584],\n",
              "       [0.12863972, 0.87136028],\n",
              "       [0.37489599, 0.62510401],\n",
              "       [0.62700234, 0.37299766],\n",
              "       [0.511034  , 0.488966  ],\n",
              "       [0.78018576, 0.21981424],\n",
              "       [0.10815005, 0.89184995],\n",
              "       [0.38581112, 0.61418888],\n",
              "       [0.15212258, 0.84787742],\n",
              "       [0.42144235, 0.57855765],\n",
              "       [0.80559733, 0.19440267],\n",
              "       [0.23403813, 0.76596187],\n",
              "       [0.83695402, 0.16304598],\n",
              "       [0.62941136, 0.37058864],\n",
              "       [0.41006356, 0.58993644],\n",
              "       [0.0333174 , 0.9666826 ],\n",
              "       [0.29456159, 0.70543841],\n",
              "       [0.10413595, 0.89586405],\n",
              "       [0.89707179, 0.10292821],\n",
              "       [0.33796138, 0.66203862],\n",
              "       [0.50960419, 0.49039581],\n",
              "       [0.85637967, 0.14362033],\n",
              "       [0.70266208, 0.29733792],\n",
              "       [0.10039849, 0.89960151],\n",
              "       [0.78680183, 0.21319817],\n",
              "       [0.70458018, 0.29541982],\n",
              "       [0.58465028, 0.41534972],\n",
              "       [0.43747065, 0.56252935],\n",
              "       [0.50009602, 0.49990398],\n",
              "       [0.70908485, 0.29091515],\n",
              "       [0.23098068, 0.76901932],\n",
              "       [0.72065512, 0.27934488],\n",
              "       [0.80382885, 0.19617115],\n",
              "       [0.74399503, 0.25600497],\n",
              "       [0.87513958, 0.12486042],\n",
              "       [0.74036998, 0.25963002],\n",
              "       [0.74094836, 0.25905164],\n",
              "       [0.70081686, 0.29918314],\n",
              "       [0.19441405, 0.80558595],\n",
              "       [0.74914516, 0.25085484],\n",
              "       [0.64414797, 0.35585203],\n",
              "       [0.14581011, 0.85418989],\n",
              "       [0.66703617, 0.33296383],\n",
              "       [0.57987792, 0.42012208],\n",
              "       [0.87328032, 0.12671968],\n",
              "       [0.81211528, 0.18788472],\n",
              "       [0.7043898 , 0.2956102 ],\n",
              "       [0.448573  , 0.551427  ],\n",
              "       [0.52612399, 0.47387601],\n",
              "       [0.77150898, 0.22849102],\n",
              "       [0.79869543, 0.20130457],\n",
              "       [0.72534406, 0.27465594],\n",
              "       [0.46486368, 0.53513632],\n",
              "       [0.10075735, 0.89924265],\n",
              "       [0.20275791, 0.79724209],\n",
              "       [0.8733275 , 0.1266725 ],\n",
              "       [0.25598426, 0.74401574],\n",
              "       [0.40167613, 0.59832387],\n",
              "       [0.65165167, 0.34834833],\n",
              "       [0.70234277, 0.29765723],\n",
              "       [0.37616788, 0.62383212],\n",
              "       [0.11687853, 0.88312147],\n",
              "       [0.81208376, 0.18791624],\n",
              "       [0.31934966, 0.68065034],\n",
              "       [0.75362762, 0.24637238],\n",
              "       [0.86793532, 0.13206468],\n",
              "       [0.85876036, 0.14123964],\n",
              "       [0.71530932, 0.28469068],\n",
              "       [0.04788531, 0.95211469],\n",
              "       [0.82746326, 0.17253674],\n",
              "       [0.51507754, 0.48492246],\n",
              "       [0.74842899, 0.25157101],\n",
              "       [0.50667296, 0.49332704],\n",
              "       [0.5139381 , 0.4860619 ],\n",
              "       [0.78457431, 0.21542569],\n",
              "       [0.07615053, 0.92384947],\n",
              "       [0.92910264, 0.07089736],\n",
              "       [0.84178087, 0.15821913],\n",
              "       [0.1441583 , 0.8558417 ],\n",
              "       [0.85479825, 0.14520175],\n",
              "       [0.75378677, 0.24621323],\n",
              "       [0.6856209 , 0.3143791 ],\n",
              "       [0.7547229 , 0.2452771 ],\n",
              "       [0.84293985, 0.15706015],\n",
              "       [0.66800799, 0.33199201],\n",
              "       [0.81996429, 0.18003571],\n",
              "       [0.0802984 , 0.9197016 ],\n",
              "       [0.68138944, 0.31861056],\n",
              "       [0.75772094, 0.24227906],\n",
              "       [0.64859324, 0.35140676],\n",
              "       [0.18951878, 0.81048122],\n",
              "       [0.71075718, 0.28924282],\n",
              "       [0.81435144, 0.18564856],\n",
              "       [0.34885813, 0.65114187],\n",
              "       [0.74188042, 0.25811958],\n",
              "       [0.87943902, 0.12056098],\n",
              "       [0.86900407, 0.13099593],\n",
              "       [0.7554694 , 0.2445306 ],\n",
              "       [0.55416575, 0.44583425],\n",
              "       [0.39885365, 0.60114635],\n",
              "       [0.71771921, 0.28228079],\n",
              "       [0.69338295, 0.30661705],\n",
              "       [0.7122686 , 0.2877314 ],\n",
              "       [0.33904691, 0.66095309],\n",
              "       [0.26061575, 0.73938425],\n",
              "       [0.60338773, 0.39661227],\n",
              "       [0.33107339, 0.66892661],\n",
              "       [0.86699746, 0.13300254],\n",
              "       [0.37562587, 0.62437413],\n",
              "       [0.26135256, 0.73864744],\n",
              "       [0.62549511, 0.37450489],\n",
              "       [0.56115253, 0.43884747],\n",
              "       [0.20226775, 0.79773225],\n",
              "       [0.85920839, 0.14079161],\n",
              "       [0.69259367, 0.30740633],\n",
              "       [0.79102591, 0.20897409],\n",
              "       [0.79642107, 0.20357893],\n",
              "       [0.73013619, 0.26986381],\n",
              "       [0.81042147, 0.18957853],\n",
              "       [0.7810726 , 0.2189274 ],\n",
              "       [0.90477746, 0.09522254],\n",
              "       [0.78635882, 0.21364118],\n",
              "       [0.08294434, 0.91705566],\n",
              "       [0.83949459, 0.16050541],\n",
              "       [0.88966921, 0.11033079],\n",
              "       [0.85032941, 0.14967059],\n",
              "       [0.28403371, 0.71596629],\n",
              "       [0.79248307, 0.20751693],\n",
              "       [0.5387176 , 0.4612824 ],\n",
              "       [0.56045583, 0.43954417],\n",
              "       [0.75828618, 0.24171382],\n",
              "       [0.83446705, 0.16553295],\n",
              "       [0.06157214, 0.93842786],\n",
              "       [0.80588063, 0.19411937],\n",
              "       [0.16396903, 0.83603097],\n",
              "       [0.02105727, 0.97894273],\n",
              "       [0.72491585, 0.27508415],\n",
              "       [0.81280264, 0.18719736],\n",
              "       [0.82462588, 0.17537412],\n",
              "       [0.86308495, 0.13691505],\n",
              "       [0.53230935, 0.46769065],\n",
              "       [0.78398136, 0.21601864],\n",
              "       [0.02291084, 0.97708916],\n",
              "       [0.62503057, 0.37496943],\n",
              "       [0.93895118, 0.06104882],\n",
              "       [0.67019292, 0.32980708]])"
            ]
          },
          "metadata": {},
          "execution_count": 35
        }
      ]
    },
    {
      "cell_type": "markdown",
      "source": [
        "# **Prediction Evaluation**"
      ],
      "metadata": {
        "id": "KCvywa2s94UN"
      }
    },
    {
      "cell_type": "code",
      "source": [
        "from sklearn.metrics import jaccard_score\n",
        "jaccard_score(y_test, yhat,pos_label=0)"
      ],
      "metadata": {
        "execution": {
          "iopub.status.busy": "2022-07-18T11:32:23.498497Z",
          "iopub.execute_input": "2022-07-18T11:32:23.498777Z",
          "iopub.status.idle": "2022-07-18T11:32:23.512863Z",
          "shell.execute_reply.started": "2022-07-18T11:32:23.498752Z",
          "shell.execute_reply": "2022-07-18T11:32:23.511795Z"
        },
        "trusted": true,
        "colab": {
          "base_uri": "https://localhost:8080/"
        },
        "id": "OgCl6rVM94UN",
        "outputId": "77cac0e0-583a-4d7c-87f3-6643eb3dadc7"
      },
      "execution_count": 36,
      "outputs": [
        {
          "output_type": "execute_result",
          "data": {
            "text/plain": [
              "0.8739495798319328"
            ]
          },
          "metadata": {},
          "execution_count": 36
        }
      ]
    },
    {
      "cell_type": "code",
      "source": [
        "from sklearn.metrics import classification_report, confusion_matrix\n",
        "import itertools\n",
        "def plot_confusion_matrix(cm, classes,\n",
        "                          normalize=False,\n",
        "                          title='Confusion matrix',\n",
        "                          cmap=plt.cm.Blues):\n",
        "    \"\"\"\n",
        "    This function prints and plots the confusion matrix.\n",
        "    Normalization can be applied by setting `normalize=True`.\n",
        "    \"\"\"\n",
        "    if normalize:\n",
        "        cm = cm.astype('float') / cm.sum(axis=1)[:, np.newaxis]\n",
        "        print(\"Normalized confusion matrix\")\n",
        "    else:\n",
        "        print('Confusion matrix, without normalization')\n",
        "\n",
        "    print(cm)\n",
        "\n",
        "    plt.imshow(cm, interpolation='nearest', cmap=cmap)\n",
        "    plt.title(title)\n",
        "    plt.colorbar()\n",
        "    tick_marks = np.arange(len(classes))\n",
        "    plt.xticks(tick_marks, classes, rotation=45)\n",
        "    plt.yticks(tick_marks, classes)\n",
        "\n",
        "    fmt = '.2f' if normalize else 'd'\n",
        "    thresh = cm.max() / 2.\n",
        "    for i, j in itertools.product(range(cm.shape[0]), range(cm.shape[1])):\n",
        "        plt.text(j, i, format(cm[i, j], fmt),\n",
        "                 horizontalalignment=\"center\",\n",
        "                 color=\"white\" if cm[i, j] > thresh else \"black\")\n",
        "\n",
        "    plt.tight_layout()\n",
        "    plt.ylabel('True label')\n",
        "    plt.xlabel('Predicted label')\n",
        "print(confusion_matrix(y_test, yhat, labels=[1,0]))"
      ],
      "metadata": {
        "execution": {
          "iopub.status.busy": "2022-07-18T11:32:23.514272Z",
          "iopub.execute_input": "2022-07-18T11:32:23.514933Z",
          "iopub.status.idle": "2022-07-18T11:32:23.529759Z",
          "shell.execute_reply.started": "2022-07-18T11:32:23.51489Z",
          "shell.execute_reply": "2022-07-18T11:32:23.528713Z"
        },
        "trusted": true,
        "colab": {
          "base_uri": "https://localhost:8080/"
        },
        "id": "1gmmntgO94UO",
        "outputId": "754e3b77-a29b-4726-be7a-874c3d27db86"
      },
      "execution_count": 37,
      "outputs": [
        {
          "output_type": "stream",
          "name": "stdout",
          "text": [
            "[[ 43   8]\n",
            " [  7 104]]\n"
          ]
        }
      ]
    },
    {
      "cell_type": "code",
      "source": [
        "cnf_matrix = confusion_matrix(y_test, yhat, labels=[1,0])\n",
        "np.set_printoptions(precision=2)\n",
        "\n",
        "\n",
        "# Plot non-normalized confusion matrix\n",
        "plt.figure()\n",
        "plot_confusion_matrix(cnf_matrix, classes=['PCOS=1','PCOS=0'],normalize= False,  title='Confusion matrix')"
      ],
      "metadata": {
        "execution": {
          "iopub.status.busy": "2022-07-18T11:32:23.530879Z",
          "iopub.execute_input": "2022-07-18T11:32:23.53177Z",
          "iopub.status.idle": "2022-07-18T11:32:23.754053Z",
          "shell.execute_reply.started": "2022-07-18T11:32:23.531737Z",
          "shell.execute_reply": "2022-07-18T11:32:23.753237Z"
        },
        "trusted": true,
        "colab": {
          "base_uri": "https://localhost:8080/",
          "height": 558
        },
        "id": "GMBphb9k94UW",
        "outputId": "8afb6dcb-856b-4ec5-cb59-c501683643ae"
      },
      "execution_count": 38,
      "outputs": [
        {
          "output_type": "stream",
          "name": "stdout",
          "text": [
            "Confusion matrix, without normalization\n",
            "[[ 43   8]\n",
            " [  7 104]]\n"
          ]
        },
        {
          "output_type": "display_data",
          "data": {
            "text/plain": [
              "<Figure size 640x480 with 2 Axes>"
            ],
            "image/png": "[encoded data removed]"
          },
          "metadata": {}
        }
      ]
    },
    {
      "cell_type": "markdown",
      "source": [],
      "metadata": {
        "id": "Xb9sDDeb94UW"
      }
    },
    {
      "cell_type": "markdown",
      "source": [
        "# **Calculate the precision and recall of each label along with the f1 score.**"
      ],
      "metadata": {
        "id": "TSrTqypS94UW"
      }
    },
    {
      "cell_type": "code",
      "source": [
        "print (classification_report(y_test, yhat))\n"
      ],
      "metadata": {
        "execution": {
          "iopub.status.busy": "2022-07-18T11:32:23.755142Z",
          "iopub.execute_input": "2022-07-18T11:32:23.756168Z",
          "iopub.status.idle": "2022-07-18T11:32:23.765516Z",
          "shell.execute_reply.started": "2022-07-18T11:32:23.756132Z",
          "shell.execute_reply": "2022-07-18T11:32:23.764233Z"
        },
        "trusted": true,
        "colab": {
          "base_uri": "https://localhost:8080/"
        },
        "id": "fbaDftd_94UX",
        "outputId": "063de95d-3e10-45d5-de40-27ee5a001c03"
      },
      "execution_count": 39,
      "outputs": [
        {
          "output_type": "stream",
          "name": "stdout",
          "text": [
            "              precision    recall  f1-score   support\n",
            "\n",
            "           0       0.93      0.94      0.93       111\n",
            "           1       0.86      0.84      0.85        51\n",
            "\n",
            "    accuracy                           0.91       162\n",
            "   macro avg       0.89      0.89      0.89       162\n",
            "weighted avg       0.91      0.91      0.91       162\n",
            "\n"
          ]
        }
      ]
    },
    {
      "cell_type": "markdown",
      "source": [
        "#Accuracy"
      ],
      "metadata": {
        "id": "2R50RkUdS__D"
      }
    },
    {
      "cell_type": "code",
      "source": [
        "from sklearn.metrics import accuracy_score\n",
        "score = accuracy_score(y_test, yhat)\n",
        "score*100"
      ],
      "metadata": {
        "colab": {
          "base_uri": "https://localhost:8080/"
        },
        "id": "Pe9-t4QkS_cG",
        "outputId": "096d25fb-b192-45c9-867a-452d4b734b2f"
      },
      "execution_count": 40,
      "outputs": [
        {
          "output_type": "execute_result",
          "data": {
            "text/plain": [
              "90.74074074074075"
            ]
          },
          "metadata": {},
          "execution_count": 40
        }
      ]
    },
    {
      "cell_type": "code",
      "source": [
        "from sklearn.metrics import log_loss\n",
        "log_loss(y_test, yhat_prob)"
      ],
      "metadata": {
        "execution": {
          "iopub.status.busy": "2022-07-18T11:32:23.768174Z",
          "iopub.execute_input": "2022-07-18T11:32:23.768998Z",
          "iopub.status.idle": "2022-07-18T11:32:23.777805Z",
          "shell.execute_reply.started": "2022-07-18T11:32:23.76896Z",
          "shell.execute_reply": "2022-07-18T11:32:23.776785Z"
        },
        "trusted": true,
        "colab": {
          "base_uri": "https://localhost:8080/"
        },
        "id": "ji0CKdKI94UX",
        "outputId": "448fe972-01c1-4456-cc70-b5ac009dca67"
      },
      "execution_count": 41,
      "outputs": [
        {
          "output_type": "execute_result",
          "data": {
            "text/plain": [
              "0.33840358968579937"
            ]
          },
          "metadata": {},
          "execution_count": 41
        }
      ]
    }
  ]
}